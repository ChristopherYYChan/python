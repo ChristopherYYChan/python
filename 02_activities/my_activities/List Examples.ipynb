{
 "cells": [
  {
   "cell_type": "code",
   "execution_count": 148,
   "id": "cadcd1ab",
   "metadata": {},
   "outputs": [
    {
     "name": "stdout",
     "output_type": "stream",
     "text": [
      "We are in the 21st century\n"
     ]
    }
   ],
   "source": [
    "year = 2022\n",
    "\n",
    "if year >= 2000:\n",
    "    print(\"We are in the 21st century\")"
   ]
  },
  {
   "cell_type": "code",
   "execution_count": 149,
   "id": "3f55b1e2",
   "metadata": {},
   "outputs": [
    {
     "name": "stdout",
     "output_type": "stream",
     "text": [
      "SATURADAY\n",
      "I am happy\n"
     ]
    }
   ],
   "source": [
    "today = \"saturaday\"\n",
    "upper_today = today.upper()\n",
    "print(upper_today)\n",
    "\n",
    "if upper_today == \"SUNDAY\" or \"SATURADAY\":\n",
    "    print (\"I am happy\")\n",
    "\n"
   ]
  },
  {
   "cell_type": "code",
   "execution_count": 150,
   "id": "75e96002",
   "metadata": {},
   "outputs": [
    {
     "name": "stdout",
     "output_type": "stream",
     "text": [
      "It's too early to have the test again\n"
     ]
    }
   ],
   "source": [
    "def eye_exam(age, time_since_last_exam, condition):\n",
    "    '''age is an integer, qualifying condition is bool -> True (you qualify), time_since_last -> # month'''\n",
    "    if age <= 19:\n",
    "        if time_since_last_exam >=12:\n",
    "            print(\"You are eligible for 1 major eye exam and 2 minor assessments\")\n",
    "        else:\n",
    "            print(\"It's too early to have the test again\")\n",
    "            \n",
    "    elif 20<= age <= 64:\n",
    "        if condition == True:\n",
    "            if time_since_last_exam >=12:\n",
    "                print(\"You are eligible for 1 major eye exam and 2 minor assessments\")\n",
    "        else:\n",
    "            print(\"It's too early to have the test again\")\n",
    "\n",
    "\n",
    "child_01 = eye_exam(21, 12, False)\n",
    "\n"
   ]
  },
  {
   "cell_type": "markdown",
   "id": "e6cdf790",
   "metadata": {},
   "source": [
    "This piece of code is a little bit weird."
   ]
  },
  {
   "cell_type": "code",
   "execution_count": 151,
   "id": "57d193c2",
   "metadata": {},
   "outputs": [
    {
     "data": {
      "text/plain": [
       "['a', 'e', 'i', 'o', 'u']"
      ]
     },
     "execution_count": 151,
     "metadata": {},
     "output_type": "execute_result"
    }
   ],
   "source": [
    "vowels = ['a','e','i','o','u']\n",
    "vowels"
   ]
  },
  {
   "cell_type": "code",
   "execution_count": 152,
   "id": "55fea22f",
   "metadata": {},
   "outputs": [
    {
     "data": {
      "text/plain": [
       "[]"
      ]
     },
     "execution_count": 152,
     "metadata": {},
     "output_type": "execute_result"
    }
   ],
   "source": [
    "empty = list()\n",
    "empty"
   ]
  },
  {
   "cell_type": "code",
   "execution_count": 153,
   "id": "a02a2b6c",
   "metadata": {},
   "outputs": [
    {
     "data": {
      "text/plain": [
       "[['dimsum', 'Chinese'], ['pizza', 'cola', 'Local'], 'bubble tea']"
      ]
     },
     "execution_count": 153,
     "metadata": {},
     "output_type": "execute_result"
    }
   ],
   "source": [
    "List_of_food = [\n",
    "    ['dimsum', 'Chinese'],\n",
    "    ['pizza','cola','Local' ],\n",
    "    'bubble tea'\n",
    "]\n",
    "List_of_food"
   ]
  },
  {
   "cell_type": "code",
   "execution_count": 154,
   "id": "6ae6efd6",
   "metadata": {},
   "outputs": [
    {
     "data": {
      "text/plain": [
       "['pizza', 'cola', 'Local']"
      ]
     },
     "execution_count": 154,
     "metadata": {},
     "output_type": "execute_result"
    }
   ],
   "source": [
    "List_of_food[1]"
   ]
  },
  {
   "cell_type": "code",
   "execution_count": 155,
   "id": "af73d523",
   "metadata": {},
   "outputs": [
    {
     "data": {
      "text/plain": [
       "'Local'"
      ]
     },
     "execution_count": 155,
     "metadata": {},
     "output_type": "execute_result"
    }
   ],
   "source": [
    "List_of_food[1][2]"
   ]
  },
  {
   "cell_type": "code",
   "execution_count": 156,
   "id": "602393bc",
   "metadata": {},
   "outputs": [
    {
     "data": {
      "text/plain": [
       "3"
      ]
     },
     "execution_count": 156,
     "metadata": {},
     "output_type": "execute_result"
    }
   ],
   "source": [
    "len(List_of_food)"
   ]
  },
  {
   "cell_type": "code",
   "execution_count": 157,
   "id": "e4a3083a",
   "metadata": {},
   "outputs": [
    {
     "data": {
      "text/plain": [
       "[['dimsum', 'Chinese'], ['pizza', 'cola', 'Local'], 'bubble tea']"
      ]
     },
     "execution_count": 157,
     "metadata": {},
     "output_type": "execute_result"
    }
   ],
   "source": [
    "List_of_food[:]"
   ]
  },
  {
   "cell_type": "code",
   "execution_count": 158,
   "id": "7c37ae06",
   "metadata": {},
   "outputs": [
    {
     "data": {
      "text/plain": [
       "[['dimsum', 'Chinese'],\n",
       " ['pizza', 'cola', 'Local'],\n",
       " 'e',\n",
       " 'n',\n",
       " 'g',\n",
       " 'l',\n",
       " 'i',\n",
       " 's',\n",
       " 'h']"
      ]
     },
     "execution_count": 158,
     "metadata": {},
     "output_type": "execute_result"
    }
   ],
   "source": [
    "List_of_food[2:] = \"english\"\n",
    "List_of_food"
   ]
  },
  {
   "cell_type": "code",
   "execution_count": 159,
   "id": "27851940",
   "metadata": {},
   "outputs": [
    {
     "ename": "TypeError",
     "evalue": "'<' not supported between instances of 'str' and 'list'",
     "output_type": "error",
     "traceback": [
      "\u001b[31m---------------------------------------------------------------------------\u001b[39m",
      "\u001b[31mTypeError\u001b[39m                                 Traceback (most recent call last)",
      "\u001b[36mCell\u001b[39m\u001b[36m \u001b[39m\u001b[32mIn[159]\u001b[39m\u001b[32m, line 1\u001b[39m\n\u001b[32m----> \u001b[39m\u001b[32m1\u001b[39m \u001b[38;5;28;43msorted\u001b[39;49m\u001b[43m(\u001b[49m\u001b[43mList_of_food\u001b[49m\u001b[43m)\u001b[49m\n",
      "\u001b[31mTypeError\u001b[39m: '<' not supported between instances of 'str' and 'list'"
     ]
    }
   ],
   "source": [
    "sorted(List_of_food)"
   ]
  },
  {
   "cell_type": "code",
   "execution_count": null,
   "id": "3ac3865b",
   "metadata": {},
   "outputs": [
    {
     "data": {
      "text/plain": [
       "[1, 4, 9, 16, 25, 36, 49]"
      ]
     },
     "execution_count": 40,
     "metadata": {},
     "output_type": "execute_result"
    }
   ],
   "source": [
    "perfect_squares = [1,4,9,16,25,36,49]\n",
    "perfect_squares"
   ]
  },
  {
   "cell_type": "code",
   "execution_count": null,
   "id": "6c8ccef4",
   "metadata": {},
   "outputs": [
    {
     "data": {
      "text/plain": [
       "7"
      ]
     },
     "execution_count": 41,
     "metadata": {},
     "output_type": "execute_result"
    }
   ],
   "source": [
    "len(perfect_squares)"
   ]
  },
  {
   "cell_type": "code",
   "execution_count": null,
   "id": "e3e91431",
   "metadata": {},
   "outputs": [
    {
     "data": {
      "text/plain": [
       "49"
      ]
     },
     "execution_count": 42,
     "metadata": {},
     "output_type": "execute_result"
    }
   ],
   "source": [
    "max(perfect_squares)"
   ]
  },
  {
   "cell_type": "code",
   "execution_count": null,
   "id": "dc94fd83",
   "metadata": {},
   "outputs": [
    {
     "data": {
      "text/plain": [
       "1"
      ]
     },
     "execution_count": 43,
     "metadata": {},
     "output_type": "execute_result"
    }
   ],
   "source": [
    "min(perfect_squares)"
   ]
  },
  {
   "cell_type": "code",
   "execution_count": null,
   "id": "2cc15f97",
   "metadata": {},
   "outputs": [
    {
     "data": {
      "text/plain": [
       "140"
      ]
     },
     "execution_count": 44,
     "metadata": {},
     "output_type": "execute_result"
    }
   ],
   "source": [
    "sum(perfect_squares)"
   ]
  },
  {
   "cell_type": "code",
   "execution_count": null,
   "id": "291d24ce",
   "metadata": {},
   "outputs": [],
   "source": [
    "sq_root = [str(i**0.5) for i in perfect_squares]"
   ]
  },
  {
   "cell_type": "code",
   "execution_count": null,
   "id": "35a4da62",
   "metadata": {},
   "outputs": [
    {
     "data": {
      "text/plain": [
       "['1.0', '2.0', '3.0', '4.0', '5.0', '6.0', '7.0']"
      ]
     },
     "execution_count": 53,
     "metadata": {},
     "output_type": "execute_result"
    }
   ],
   "source": [
    "sq_root"
   ]
  },
  {
   "cell_type": "code",
   "execution_count": null,
   "id": "7b5ee727",
   "metadata": {},
   "outputs": [
    {
     "data": {
      "text/plain": [
       "['red', 'orange', '黃', 'green', 'blue', 'purple']"
      ]
     },
     "execution_count": 57,
     "metadata": {},
     "output_type": "execute_result"
    }
   ],
   "source": [
    "# .extend() method is used to add elements from an iterable to the end of a list\n",
    "# it unpacks the elements of the iterable and adds them one by one to the end of the origainl list\n",
    "colour = ['red','orange','黃','green','blue','purple']\n",
    "colour"
   ]
  },
  {
   "cell_type": "code",
   "execution_count": null,
   "id": "7d236027",
   "metadata": {},
   "outputs": [],
   "source": [
    "colour.append([\"orange2\",'orange3']) # append just add without changing anything"
   ]
  },
  {
   "cell_type": "code",
   "execution_count": null,
   "id": "c2dbfc32",
   "metadata": {},
   "outputs": [
    {
     "data": {
      "text/plain": [
       "['red', 'orange', '黃', 'green', 'blue', 'purple', ['orange2', 'orange3']]"
      ]
     },
     "execution_count": 59,
     "metadata": {},
     "output_type": "execute_result"
    }
   ],
   "source": [
    "colour"
   ]
  },
  {
   "cell_type": "code",
   "execution_count": null,
   "id": "ef503b7b",
   "metadata": {},
   "outputs": [
    {
     "data": {
      "text/plain": [
       "['red',\n",
       " 'orange',\n",
       " '黃',\n",
       " 'green',\n",
       " 'blue',\n",
       " 'purple',\n",
       " ['orange2', 'orange3'],\n",
       " \"blue2','blue3\"]"
      ]
     },
     "execution_count": 60,
     "metadata": {},
     "output_type": "execute_result"
    }
   ],
   "source": [
    "colour.extend([\"blue2','blue3\"]) # now blue2 and blue3 are added as separated strings but not a list\n",
    "colour"
   ]
  },
  {
   "cell_type": "code",
   "execution_count": null,
   "id": "7f3423fd",
   "metadata": {},
   "outputs": [
    {
     "data": {
      "text/plain": [
       "8"
      ]
     },
     "execution_count": 61,
     "metadata": {},
     "output_type": "execute_result"
    }
   ],
   "source": [
    "len(colour)"
   ]
  },
  {
   "cell_type": "code",
   "execution_count": null,
   "id": "4a208eba",
   "metadata": {},
   "outputs": [
    {
     "data": {
      "text/plain": [
       "['red',\n",
       " 'orange',\n",
       " '黃',\n",
       " 'green',\n",
       " 'blue',\n",
       " 'purple',\n",
       " ['orange2', 'orange3'],\n",
       " \"blue2','blue3\",\n",
       " 'c',\n",
       " 'y',\n",
       " 'a',\n",
       " 'n']"
      ]
     },
     "execution_count": 62,
     "metadata": {},
     "output_type": "execute_result"
    }
   ],
   "source": [
    "colour.extend(\"cyan\") # now breakdown every single letter from cyan to add to the list\n",
    "colour"
   ]
  },
  {
   "cell_type": "code",
   "execution_count": null,
   "id": "31c7aa32",
   "metadata": {},
   "outputs": [],
   "source": [
    "new_colour = colour.append(\"hap\")\n",
    "new_colour"
   ]
  },
  {
   "cell_type": "code",
   "execution_count": null,
   "id": "6c7d0ccf",
   "metadata": {},
   "outputs": [
    {
     "data": {
      "text/plain": [
       "['red',\n",
       " 'orange',\n",
       " '黃',\n",
       " 'green',\n",
       " 'blue',\n",
       " 'purple',\n",
       " ['orange2', 'orange3'],\n",
       " \"blue2','blue3\",\n",
       " 'c',\n",
       " 'y',\n",
       " 'a',\n",
       " 'n',\n",
       " 'happy',\n",
       " 'happy',\n",
       " 'hap']"
      ]
     },
     "execution_count": 70,
     "metadata": {},
     "output_type": "execute_result"
    }
   ],
   "source": [
    "new_colour_2 = [i for i in colour]\n",
    "new_colour_2"
   ]
  },
  {
   "cell_type": "code",
   "execution_count": null,
   "id": "e8ba7305",
   "metadata": {},
   "outputs": [
    {
     "data": {
      "text/plain": [
       "['red',\n",
       " 'orange',\n",
       " '黃',\n",
       " 'green',\n",
       " 'blue',\n",
       " 'purple',\n",
       " ['orange2', 'orange3'],\n",
       " \"blue2','blue3\",\n",
       " 'c',\n",
       " 'y',\n",
       " 'a',\n",
       " 'n',\n",
       " 'happy',\n",
       " 'happy',\n",
       " 'hap']"
      ]
     },
     "execution_count": 83,
     "metadata": {},
     "output_type": "execute_result"
    }
   ],
   "source": [
    "colour"
   ]
  },
  {
   "cell_type": "code",
   "execution_count": null,
   "id": "3c87a172",
   "metadata": {},
   "outputs": [
    {
     "data": {
      "text/plain": [
       "['red',\n",
       " 'orange',\n",
       " '黃',\n",
       " 'green',\n",
       " 'blue',\n",
       " 'purple',\n",
       " ['orange2', 'orange3'],\n",
       " \"blue2','blue3\",\n",
       " 'c',\n",
       " 'y',\n",
       " 'a',\n",
       " 'n']"
      ]
     },
     "execution_count": 122,
     "metadata": {},
     "output_type": "execute_result"
    }
   ],
   "source": [
    "del colour [-3:]\n",
    "colour"
   ]
  },
  {
   "cell_type": "code",
   "execution_count": 160,
   "id": "1a9a5653",
   "metadata": {},
   "outputs": [
    {
     "data": {
      "text/plain": [
       "['red',\n",
       " 'orange',\n",
       " '黃',\n",
       " 'green',\n",
       " 'blue',\n",
       " 'purple',\n",
       " ['orange2', 'orange3'],\n",
       " \"blue2','blue3\",\n",
       " 'c',\n",
       " 'y',\n",
       " 'a',\n",
       " 'n']"
      ]
     },
     "execution_count": 160,
     "metadata": {},
     "output_type": "execute_result"
    }
   ],
   "source": [
    "colour"
   ]
  },
  {
   "cell_type": "code",
   "execution_count": 161,
   "id": "e0e3002c",
   "metadata": {},
   "outputs": [
    {
     "data": {
      "text/plain": [
       "['red',\n",
       " 'orange',\n",
       " '黃',\n",
       " 'green',\n",
       " 'blue',\n",
       " 'purple',\n",
       " ['orange2', 'orange3'],\n",
       " \"blue2','blue3\",\n",
       " 'c',\n",
       " 'y',\n",
       " 'a',\n",
       " 'n',\n",
       " 'fruit']"
      ]
     },
     "execution_count": 161,
     "metadata": {},
     "output_type": "execute_result"
    }
   ],
   "source": [
    "colour.append(\"fruit\")\n",
    "colour"
   ]
  },
  {
   "cell_type": "code",
   "execution_count": 163,
   "id": "d641e095",
   "metadata": {},
   "outputs": [
    {
     "data": {
      "text/plain": [
       "['red',\n",
       " 'orange',\n",
       " '黃',\n",
       " 'green',\n",
       " 'blue',\n",
       " 'purple',\n",
       " ['orange2', 'orange3'],\n",
       " \"blue2','blue3\",\n",
       " 'c',\n",
       " 'y',\n",
       " 'a',\n",
       " 'n',\n",
       " 'fruit']"
      ]
     },
     "execution_count": 163,
     "metadata": {},
     "output_type": "execute_result"
    }
   ],
   "source": [
    "new_colour_3 = [i for i in colour]\n",
    "new_colour_3"
   ]
  },
  {
   "cell_type": "code",
   "execution_count": 164,
   "id": "008628c5",
   "metadata": {},
   "outputs": [
    {
     "data": {
      "text/plain": [
       "['orange2', 'orange3']"
      ]
     },
     "execution_count": 164,
     "metadata": {},
     "output_type": "execute_result"
    }
   ],
   "source": [
    "colour[6]"
   ]
  },
  {
   "cell_type": "code",
   "execution_count": 165,
   "id": "6df5da4f",
   "metadata": {},
   "outputs": [
    {
     "data": {
      "text/plain": [
       "'purple'"
      ]
     },
     "execution_count": 165,
     "metadata": {},
     "output_type": "execute_result"
    }
   ],
   "source": [
    "colour[5]"
   ]
  },
  {
   "cell_type": "code",
   "execution_count": null,
   "id": "fc36c390",
   "metadata": {},
   "outputs": [
    {
     "data": {
      "text/plain": [
       "['red',\n",
       " 'orange',\n",
       " '黃',\n",
       " 'green',\n",
       " 'blue',\n",
       " 'oo',\n",
       " 'purple',\n",
       " ['orange2', 'orange3'],\n",
       " \"blue2','blue3\",\n",
       " 'c',\n",
       " 'y',\n",
       " 'a',\n",
       " 'n',\n",
       " 'fruit']"
      ]
     },
     "execution_count": 167,
     "metadata": {},
     "output_type": "execute_result"
    }
   ],
   "source": [
    "colour.insert(5,\"oo\")\n",
    "colour\n",
    "# list_name.clear() --> the list will be cleared"
   ]
  },
  {
   "cell_type": "code",
   "execution_count": null,
   "id": "f8faaead",
   "metadata": {},
   "outputs": [],
   "source": []
  }
 ],
 "metadata": {
  "kernelspec": {
   "display_name": "python-env",
   "language": "python",
   "name": "python3"
  },
  "language_info": {
   "codemirror_mode": {
    "name": "ipython",
    "version": 3
   },
   "file_extension": ".py",
   "mimetype": "text/x-python",
   "name": "python",
   "nbconvert_exporter": "python",
   "pygments_lexer": "ipython3",
   "version": "3.11.4"
  }
 },
 "nbformat": 4,
 "nbformat_minor": 5
}
