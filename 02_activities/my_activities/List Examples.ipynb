{
 "cells": [
  {
   "cell_type": "code",
   "execution_count": 25,
   "id": "cadcd1ab",
   "metadata": {},
   "outputs": [
    {
     "name": "stdout",
     "output_type": "stream",
     "text": [
      "We are in the 21st century\n"
     ]
    }
   ],
   "source": [
    "year = 2022\n",
    "\n",
    "if year >= 2000:\n",
    "    print(\"We are in the 21st century\")"
   ]
  },
  {
   "cell_type": "code",
   "execution_count": 26,
   "id": "3f55b1e2",
   "metadata": {},
   "outputs": [
    {
     "name": "stdout",
     "output_type": "stream",
     "text": [
      "SATURADAY\n",
      "I am happy\n"
     ]
    }
   ],
   "source": [
    "today = \"saturaday\"\n",
    "upper_today = today.upper()\n",
    "print(upper_today)\n",
    "\n",
    "if upper_today == \"SUNDAY\" or \"SATURADAY\":\n",
    "    print (\"I am happy\")\n",
    "\n"
   ]
  },
  {
   "cell_type": "code",
   "execution_count": 27,
   "id": "75e96002",
   "metadata": {},
   "outputs": [
    {
     "name": "stdout",
     "output_type": "stream",
     "text": [
      "It's too early to have the test again\n"
     ]
    }
   ],
   "source": [
    "def eye_exam(age, time_since_last_exam, condition):\n",
    "    '''age is an integer, qualifying condition is bool -> True (you qualify), time_since_last -> # month'''\n",
    "    if age <= 19:\n",
    "        if time_since_last_exam >=12:\n",
    "            print(\"You are eligible for 1 major eye exam and 2 minor assessments\")\n",
    "        else:\n",
    "            print(\"It's too early to have the test again\")\n",
    "            \n",
    "    elif 20<= age <= 64:\n",
    "        if condition == True:\n",
    "            if time_since_last_exam >=12:\n",
    "                print(\"You are eligible for 1 major eye exam and 2 minor assessments\")\n",
    "        else:\n",
    "            print(\"It's too early to have the test again\")\n",
    "\n",
    "\n",
    "child_01 = eye_exam(21, 12, False)\n",
    "\n"
   ]
  },
  {
   "cell_type": "markdown",
   "id": "e6cdf790",
   "metadata": {},
   "source": [
    "This piece of code is a little bit weird."
   ]
  },
  {
   "cell_type": "code",
   "execution_count": 28,
   "id": "57d193c2",
   "metadata": {},
   "outputs": [
    {
     "data": {
      "text/plain": [
       "['a', 'e', 'i', 'o', 'u']"
      ]
     },
     "execution_count": 28,
     "metadata": {},
     "output_type": "execute_result"
    }
   ],
   "source": [
    "vowels = ['a','e','i','o','u']\n",
    "vowels"
   ]
  },
  {
   "cell_type": "code",
   "execution_count": 29,
   "id": "55fea22f",
   "metadata": {},
   "outputs": [
    {
     "data": {
      "text/plain": [
       "[]"
      ]
     },
     "execution_count": 29,
     "metadata": {},
     "output_type": "execute_result"
    }
   ],
   "source": [
    "empty = list()\n",
    "empty"
   ]
  },
  {
   "cell_type": "code",
   "execution_count": 30,
   "id": "a02a2b6c",
   "metadata": {},
   "outputs": [
    {
     "data": {
      "text/plain": [
       "[['dimsum', 'Chinese'], ['pizza', 'cola', 'Local'], 'bubble tea']"
      ]
     },
     "execution_count": 30,
     "metadata": {},
     "output_type": "execute_result"
    }
   ],
   "source": [
    "List_of_food = [\n",
    "    ['dimsum', 'Chinese'],\n",
    "    ['pizza','cola','Local' ],\n",
    "    'bubble tea'\n",
    "]\n",
    "List_of_food"
   ]
  },
  {
   "cell_type": "code",
   "execution_count": 31,
   "id": "6ae6efd6",
   "metadata": {},
   "outputs": [
    {
     "data": {
      "text/plain": [
       "['pizza', 'cola', 'Local']"
      ]
     },
     "execution_count": 31,
     "metadata": {},
     "output_type": "execute_result"
    }
   ],
   "source": [
    "List_of_food[1]"
   ]
  },
  {
   "cell_type": "code",
   "execution_count": 32,
   "id": "af73d523",
   "metadata": {},
   "outputs": [
    {
     "data": {
      "text/plain": [
       "'Local'"
      ]
     },
     "execution_count": 32,
     "metadata": {},
     "output_type": "execute_result"
    }
   ],
   "source": [
    "List_of_food[1][2]"
   ]
  },
  {
   "cell_type": "code",
   "execution_count": 33,
   "id": "602393bc",
   "metadata": {},
   "outputs": [
    {
     "data": {
      "text/plain": [
       "3"
      ]
     },
     "execution_count": 33,
     "metadata": {},
     "output_type": "execute_result"
    }
   ],
   "source": [
    "len(List_of_food)"
   ]
  },
  {
   "cell_type": "code",
   "execution_count": 34,
   "id": "e4a3083a",
   "metadata": {},
   "outputs": [
    {
     "data": {
      "text/plain": [
       "[['dimsum', 'Chinese'], ['pizza', 'cola', 'Local'], 'bubble tea']"
      ]
     },
     "execution_count": 34,
     "metadata": {},
     "output_type": "execute_result"
    }
   ],
   "source": [
    "List_of_food[:]"
   ]
  },
  {
   "cell_type": "code",
   "execution_count": 35,
   "id": "7c37ae06",
   "metadata": {},
   "outputs": [
    {
     "data": {
      "text/plain": [
       "[['dimsum', 'Chinese'],\n",
       " ['pizza', 'cola', 'Local'],\n",
       " 'e',\n",
       " 'n',\n",
       " 'g',\n",
       " 'l',\n",
       " 'i',\n",
       " 's',\n",
       " 'h']"
      ]
     },
     "execution_count": 35,
     "metadata": {},
     "output_type": "execute_result"
    }
   ],
   "source": [
    "List_of_food[2:] = \"english\"\n",
    "List_of_food"
   ]
  },
  {
   "cell_type": "code",
   "execution_count": 36,
   "id": "27851940",
   "metadata": {},
   "outputs": [
    {
     "ename": "TypeError",
     "evalue": "'<' not supported between instances of 'str' and 'list'",
     "output_type": "error",
     "traceback": [
      "\u001b[31m---------------------------------------------------------------------------\u001b[39m",
      "\u001b[31mTypeError\u001b[39m                                 Traceback (most recent call last)",
      "\u001b[36mCell\u001b[39m\u001b[36m \u001b[39m\u001b[32mIn[36]\u001b[39m\u001b[32m, line 1\u001b[39m\n\u001b[32m----> \u001b[39m\u001b[32m1\u001b[39m \u001b[38;5;28;43msorted\u001b[39;49m\u001b[43m(\u001b[49m\u001b[43mList_of_food\u001b[49m\u001b[43m)\u001b[49m\n",
      "\u001b[31mTypeError\u001b[39m: '<' not supported between instances of 'str' and 'list'"
     ]
    }
   ],
   "source": [
    "sorted(List_of_food)"
   ]
  },
  {
   "cell_type": "code",
   "execution_count": null,
   "id": "3ac3865b",
   "metadata": {},
   "outputs": [
    {
     "data": {
      "text/plain": [
       "[1, 4, 9, 16, 25, 36, 49]"
      ]
     },
     "execution_count": 40,
     "metadata": {},
     "output_type": "execute_result"
    }
   ],
   "source": [
    "perfect_squares = [1,4,9,16,25,36,49]\n",
    "perfect_squares"
   ]
  },
  {
   "cell_type": "code",
   "execution_count": null,
   "id": "6c8ccef4",
   "metadata": {},
   "outputs": [
    {
     "data": {
      "text/plain": [
       "7"
      ]
     },
     "execution_count": 41,
     "metadata": {},
     "output_type": "execute_result"
    }
   ],
   "source": [
    "len(perfect_squares)"
   ]
  },
  {
   "cell_type": "code",
   "execution_count": null,
   "id": "e3e91431",
   "metadata": {},
   "outputs": [
    {
     "data": {
      "text/plain": [
       "49"
      ]
     },
     "execution_count": 42,
     "metadata": {},
     "output_type": "execute_result"
    }
   ],
   "source": [
    "max(perfect_squares)"
   ]
  },
  {
   "cell_type": "code",
   "execution_count": null,
   "id": "dc94fd83",
   "metadata": {},
   "outputs": [
    {
     "data": {
      "text/plain": [
       "1"
      ]
     },
     "execution_count": 43,
     "metadata": {},
     "output_type": "execute_result"
    }
   ],
   "source": [
    "min(perfect_squares)"
   ]
  },
  {
   "cell_type": "code",
   "execution_count": null,
   "id": "2cc15f97",
   "metadata": {},
   "outputs": [
    {
     "data": {
      "text/plain": [
       "140"
      ]
     },
     "execution_count": 44,
     "metadata": {},
     "output_type": "execute_result"
    }
   ],
   "source": [
    "sum(perfect_squares)"
   ]
  },
  {
   "cell_type": "code",
   "execution_count": null,
   "id": "291d24ce",
   "metadata": {},
   "outputs": [],
   "source": [
    "sq_root = [str(i**0.5) for i in perfect_squares]"
   ]
  },
  {
   "cell_type": "code",
   "execution_count": null,
   "id": "35a4da62",
   "metadata": {},
   "outputs": [
    {
     "data": {
      "text/plain": [
       "['1.0', '2.0', '3.0', '4.0', '5.0', '6.0', '7.0']"
      ]
     },
     "execution_count": 53,
     "metadata": {},
     "output_type": "execute_result"
    }
   ],
   "source": [
    "sq_root"
   ]
  },
  {
   "cell_type": "code",
   "execution_count": null,
   "id": "7b5ee727",
   "metadata": {},
   "outputs": [
    {
     "data": {
      "text/plain": [
       "['red', 'orange', '黃', 'green', 'blue', 'purple']"
      ]
     },
     "execution_count": 57,
     "metadata": {},
     "output_type": "execute_result"
    }
   ],
   "source": [
    "# .extend() method is used to add elements from an iterable to the end of a list\n",
    "# it unpacks the elements of the iterable and adds them one by one to the end of the origainl list\n",
    "colour = ['red','orange','黃','green','blue','purple']\n",
    "colour"
   ]
  },
  {
   "cell_type": "code",
   "execution_count": null,
   "id": "7d236027",
   "metadata": {},
   "outputs": [],
   "source": [
    "colour.append([\"orange2\",'orange3']) # append just add without changing anything"
   ]
  },
  {
   "cell_type": "code",
   "execution_count": null,
   "id": "c2dbfc32",
   "metadata": {},
   "outputs": [
    {
     "data": {
      "text/plain": [
       "['red', 'orange', '黃', 'green', 'blue', 'purple', ['orange2', 'orange3']]"
      ]
     },
     "execution_count": 59,
     "metadata": {},
     "output_type": "execute_result"
    }
   ],
   "source": [
    "colour"
   ]
  },
  {
   "cell_type": "code",
   "execution_count": null,
   "id": "ef503b7b",
   "metadata": {},
   "outputs": [
    {
     "data": {
      "text/plain": [
       "['red',\n",
       " 'orange',\n",
       " '黃',\n",
       " 'green',\n",
       " 'blue',\n",
       " 'purple',\n",
       " ['orange2', 'orange3'],\n",
       " \"blue2','blue3\"]"
      ]
     },
     "execution_count": 60,
     "metadata": {},
     "output_type": "execute_result"
    }
   ],
   "source": [
    "colour.extend([\"blue2','blue3\"]) # now blue2 and blue3 are added as separated strings but not a list\n",
    "colour"
   ]
  },
  {
   "cell_type": "code",
   "execution_count": null,
   "id": "7f3423fd",
   "metadata": {},
   "outputs": [
    {
     "data": {
      "text/plain": [
       "8"
      ]
     },
     "execution_count": 61,
     "metadata": {},
     "output_type": "execute_result"
    }
   ],
   "source": [
    "len(colour)"
   ]
  },
  {
   "cell_type": "code",
   "execution_count": null,
   "id": "4a208eba",
   "metadata": {},
   "outputs": [
    {
     "data": {
      "text/plain": [
       "['red',\n",
       " 'orange',\n",
       " '黃',\n",
       " 'green',\n",
       " 'blue',\n",
       " 'purple',\n",
       " ['orange2', 'orange3'],\n",
       " \"blue2','blue3\",\n",
       " 'c',\n",
       " 'y',\n",
       " 'a',\n",
       " 'n']"
      ]
     },
     "execution_count": 62,
     "metadata": {},
     "output_type": "execute_result"
    }
   ],
   "source": [
    "colour.extend(\"cyan\") # now breakdown every single letter from cyan to add to the list\n",
    "colour"
   ]
  },
  {
   "cell_type": "code",
   "execution_count": null,
   "id": "31c7aa32",
   "metadata": {},
   "outputs": [],
   "source": [
    "new_colour = colour.append(\"hap\")\n",
    "new_colour"
   ]
  },
  {
   "cell_type": "code",
   "execution_count": null,
   "id": "6c7d0ccf",
   "metadata": {},
   "outputs": [
    {
     "data": {
      "text/plain": [
       "['red',\n",
       " 'orange',\n",
       " '黃',\n",
       " 'green',\n",
       " 'blue',\n",
       " 'purple',\n",
       " ['orange2', 'orange3'],\n",
       " \"blue2','blue3\",\n",
       " 'c',\n",
       " 'y',\n",
       " 'a',\n",
       " 'n',\n",
       " 'happy',\n",
       " 'happy',\n",
       " 'hap']"
      ]
     },
     "execution_count": 70,
     "metadata": {},
     "output_type": "execute_result"
    }
   ],
   "source": [
    "new_colour_2 = [i for i in colour]\n",
    "new_colour_2"
   ]
  },
  {
   "cell_type": "code",
   "execution_count": null,
   "id": "e8ba7305",
   "metadata": {},
   "outputs": [
    {
     "data": {
      "text/plain": [
       "['red',\n",
       " 'orange',\n",
       " '黃',\n",
       " 'green',\n",
       " 'blue',\n",
       " 'purple',\n",
       " ['orange2', 'orange3'],\n",
       " \"blue2','blue3\",\n",
       " 'c',\n",
       " 'y',\n",
       " 'a',\n",
       " 'n',\n",
       " 'happy',\n",
       " 'happy',\n",
       " 'hap']"
      ]
     },
     "execution_count": 83,
     "metadata": {},
     "output_type": "execute_result"
    }
   ],
   "source": [
    "colour"
   ]
  },
  {
   "cell_type": "code",
   "execution_count": null,
   "id": "3c87a172",
   "metadata": {},
   "outputs": [
    {
     "data": {
      "text/plain": [
       "['red',\n",
       " 'orange',\n",
       " '黃',\n",
       " 'green',\n",
       " 'blue',\n",
       " 'purple',\n",
       " ['orange2', 'orange3'],\n",
       " \"blue2','blue3\",\n",
       " 'c',\n",
       " 'y',\n",
       " 'a',\n",
       " 'n']"
      ]
     },
     "execution_count": 122,
     "metadata": {},
     "output_type": "execute_result"
    }
   ],
   "source": [
    "del colour [-3:]\n",
    "colour"
   ]
  },
  {
   "cell_type": "code",
   "execution_count": null,
   "id": "1a9a5653",
   "metadata": {},
   "outputs": [
    {
     "data": {
      "text/plain": [
       "['red',\n",
       " 'orange',\n",
       " '黃',\n",
       " 'green',\n",
       " 'blue',\n",
       " 'purple',\n",
       " ['orange2', 'orange3'],\n",
       " \"blue2','blue3\",\n",
       " 'c',\n",
       " 'y',\n",
       " 'a',\n",
       " 'n']"
      ]
     },
     "execution_count": 160,
     "metadata": {},
     "output_type": "execute_result"
    }
   ],
   "source": [
    "colour"
   ]
  },
  {
   "cell_type": "code",
   "execution_count": null,
   "id": "e0e3002c",
   "metadata": {},
   "outputs": [
    {
     "data": {
      "text/plain": [
       "['red',\n",
       " 'orange',\n",
       " '黃',\n",
       " 'green',\n",
       " 'blue',\n",
       " 'purple',\n",
       " ['orange2', 'orange3'],\n",
       " \"blue2','blue3\",\n",
       " 'c',\n",
       " 'y',\n",
       " 'a',\n",
       " 'n',\n",
       " 'fruit']"
      ]
     },
     "execution_count": 161,
     "metadata": {},
     "output_type": "execute_result"
    }
   ],
   "source": [
    "colour.append(\"fruit\")\n",
    "colour"
   ]
  },
  {
   "cell_type": "code",
   "execution_count": null,
   "id": "d641e095",
   "metadata": {},
   "outputs": [
    {
     "data": {
      "text/plain": [
       "['red',\n",
       " 'orange',\n",
       " '黃',\n",
       " 'green',\n",
       " 'blue',\n",
       " 'purple',\n",
       " ['orange2', 'orange3'],\n",
       " \"blue2','blue3\",\n",
       " 'c',\n",
       " 'y',\n",
       " 'a',\n",
       " 'n',\n",
       " 'fruit']"
      ]
     },
     "execution_count": 163,
     "metadata": {},
     "output_type": "execute_result"
    }
   ],
   "source": [
    "new_colour_3 = [i for i in colour]\n",
    "new_colour_3"
   ]
  },
  {
   "cell_type": "code",
   "execution_count": null,
   "id": "008628c5",
   "metadata": {},
   "outputs": [
    {
     "data": {
      "text/plain": [
       "['orange2', 'orange3']"
      ]
     },
     "execution_count": 164,
     "metadata": {},
     "output_type": "execute_result"
    }
   ],
   "source": [
    "colour[6]"
   ]
  },
  {
   "cell_type": "code",
   "execution_count": null,
   "id": "6df5da4f",
   "metadata": {},
   "outputs": [
    {
     "data": {
      "text/plain": [
       "'purple'"
      ]
     },
     "execution_count": 165,
     "metadata": {},
     "output_type": "execute_result"
    }
   ],
   "source": [
    "colour[5]"
   ]
  },
  {
   "cell_type": "code",
   "execution_count": null,
   "id": "fc36c390",
   "metadata": {},
   "outputs": [
    {
     "data": {
      "text/plain": [
       "['red',\n",
       " 'orange',\n",
       " '黃',\n",
       " 'green',\n",
       " 'blue',\n",
       " 'oo',\n",
       " 'purple',\n",
       " ['orange2', 'orange3'],\n",
       " \"blue2','blue3\",\n",
       " 'c',\n",
       " 'y',\n",
       " 'a',\n",
       " 'n',\n",
       " 'fruit']"
      ]
     },
     "execution_count": 167,
     "metadata": {},
     "output_type": "execute_result"
    }
   ],
   "source": [
    "colour.insert(5,\"oo\")\n",
    "colour\n",
    "# list_name.clear() --> the list will be cleared"
   ]
  },
  {
   "cell_type": "code",
   "execution_count": null,
   "id": "f8faaead",
   "metadata": {},
   "outputs": [],
   "source": [
    "characters = [1,2,3,'a','b','c']"
   ]
  },
  {
   "cell_type": "code",
   "execution_count": null,
   "id": "695084da",
   "metadata": {},
   "outputs": [
    {
     "data": {
      "text/plain": [
       "['a', 'b', 'c']"
      ]
     },
     "execution_count": 15,
     "metadata": {},
     "output_type": "execute_result"
    }
   ],
   "source": [
    "characters[3:]"
   ]
  },
  {
   "cell_type": "code",
   "execution_count": 51,
   "id": "9ac1d887",
   "metadata": {},
   "outputs": [
    {
     "data": {
      "text/plain": [
       "['apple', 'banana', 'cheerio']"
      ]
     },
     "execution_count": 51,
     "metadata": {},
     "output_type": "execute_result"
    }
   ],
   "source": [
    "breakfast = ['apple','banana','cheerio']\n",
    "breakfast_copy = list(breakfast)\n",
    "breakfast[0] = 'pizza'\n",
    "breakfast\n",
    "breakfast_copy"
   ]
  },
  {
   "cell_type": "code",
   "execution_count": 52,
   "id": "6dd1fb81",
   "metadata": {},
   "outputs": [
    {
     "data": {
      "text/plain": [
       "['pizza', 'banana', 'cheerio']"
      ]
     },
     "execution_count": 52,
     "metadata": {},
     "output_type": "execute_result"
    }
   ],
   "source": [
    "breakfast"
   ]
  },
  {
   "cell_type": "code",
   "execution_count": 53,
   "id": "3f6407ea",
   "metadata": {},
   "outputs": [
    {
     "data": {
      "text/plain": [
       "['banana', 'cheerio', 'pizza']"
      ]
     },
     "execution_count": 53,
     "metadata": {},
     "output_type": "execute_result"
    }
   ],
   "source": [
    "sorted(breakfast)"
   ]
  },
  {
   "cell_type": "code",
   "execution_count": 54,
   "id": "f6895541",
   "metadata": {},
   "outputs": [
    {
     "data": {
      "text/plain": [
       "['pizza', 'banana', 'cheerio']"
      ]
     },
     "execution_count": 54,
     "metadata": {},
     "output_type": "execute_result"
    }
   ],
   "source": [
    "breakfast"
   ]
  },
  {
   "cell_type": "code",
   "execution_count": 56,
   "id": "d604358e",
   "metadata": {},
   "outputs": [
    {
     "data": {
      "text/plain": [
       "['pizza', 'banana', 'cheerio']"
      ]
     },
     "execution_count": 56,
     "metadata": {},
     "output_type": "execute_result"
    }
   ],
   "source": [
    "def last_letter(text):\n",
    "    return text[-1]\n",
    "\n",
    "sorted(breakfast, key=last_letter)"
   ]
  },
  {
   "cell_type": "code",
   "execution_count": 57,
   "id": "db2d3bf7",
   "metadata": {},
   "outputs": [
    {
     "data": {
      "text/plain": [
       "[['Grade 10', 17], ['Grade 11', 13], ['Grade 12', 22], ['Grade 9', 20]]"
      ]
     },
     "execution_count": 57,
     "metadata": {},
     "output_type": "execute_result"
    }
   ],
   "source": [
    "students_per_class = [[\"Grade 9\", 20],[\"Grade 11\", 13], [\"Grade 10\",17], [\"Grade 12\", 22]]\n",
    "sorted(students_per_class)"
   ]
  },
  {
   "cell_type": "code",
   "execution_count": 59,
   "id": "d261f631",
   "metadata": {},
   "outputs": [
    {
     "data": {
      "text/plain": [
       "[['Grade 11', 13], ['Grade 10', 17], ['Grade 9', 20], ['Grade 12', 22]]"
      ]
     },
     "execution_count": 59,
     "metadata": {},
     "output_type": "execute_result"
    }
   ],
   "source": [
    "def second_element(item):\n",
    "    return item[1]\n",
    "\n",
    "students_per_class.sort(key = second_element)\n",
    "students_per_class"
   ]
  },
  {
   "cell_type": "code",
   "execution_count": null,
   "id": "76552fe0",
   "metadata": {},
   "outputs": [
    {
     "data": {
      "text/plain": [
       "5"
      ]
     },
     "execution_count": 61,
     "metadata": {},
     "output_type": "execute_result"
    }
   ],
   "source": [
    "second_element([0,5,7]) #inputting a list and use second_element to get the 2nd element of the list"
   ]
  },
  {
   "cell_type": "code",
   "execution_count": 62,
   "id": "73e0855f",
   "metadata": {},
   "outputs": [
    {
     "data": {
      "text/plain": [
       "tuple"
      ]
     },
     "execution_count": 62,
     "metadata": {},
     "output_type": "execute_result"
    }
   ],
   "source": [
    "list = ()\n",
    "type(list)"
   ]
  },
  {
   "cell_type": "code",
   "execution_count": 64,
   "id": "f86d816f",
   "metadata": {},
   "outputs": [
    {
     "data": {
      "text/plain": [
       "list"
      ]
     },
     "execution_count": 64,
     "metadata": {},
     "output_type": "execute_result"
    }
   ],
   "source": [
    "list_2 = []\n",
    "type(list_2)"
   ]
  },
  {
   "cell_type": "code",
   "execution_count": 65,
   "id": "683cd942",
   "metadata": {},
   "outputs": [
    {
     "data": {
      "text/plain": [
       "tuple"
      ]
     },
     "execution_count": 65,
     "metadata": {},
     "output_type": "execute_result"
    }
   ],
   "source": [
    "list_3 = tuple()\n",
    "type (list_3)"
   ]
  },
  {
   "cell_type": "code",
   "execution_count": 70,
   "id": "3e32f364",
   "metadata": {},
   "outputs": [
    {
     "ename": "TypeError",
     "evalue": "can only concatenate tuple (not \"str\") to tuple",
     "output_type": "error",
     "traceback": [
      "\u001b[31m---------------------------------------------------------------------------\u001b[39m",
      "\u001b[31mTypeError\u001b[39m                                 Traceback (most recent call last)",
      "\u001b[36mCell\u001b[39m\u001b[36m \u001b[39m\u001b[32mIn[70]\u001b[39m\u001b[32m, line 1\u001b[39m\n\u001b[32m----> \u001b[39m\u001b[32m1\u001b[39m \u001b[43mlist_3\u001b[49m\u001b[43m \u001b[49m\u001b[43m+\u001b[49m\u001b[43m \u001b[49m\u001b[43m(\u001b[49m\u001b[33;43m\"\u001b[39;49m\u001b[33;43mhello\u001b[39;49m\u001b[33;43m\"\u001b[39;49m\u001b[43m)\u001b[49m\n",
      "\u001b[31mTypeError\u001b[39m: can only concatenate tuple (not \"str\") to tuple"
     ]
    }
   ],
   "source": [
    "list_3 + (\"hello\")"
   ]
  },
  {
   "cell_type": "code",
   "execution_count": 71,
   "id": "3d93c0cd",
   "metadata": {},
   "outputs": [
    {
     "data": {
      "text/plain": [
       "('hello', 'you')"
      ]
     },
     "execution_count": 71,
     "metadata": {},
     "output_type": "execute_result"
    }
   ],
   "source": [
    "list_3 + (\"hello\", \"you\")"
   ]
  },
  {
   "cell_type": "code",
   "execution_count": 72,
   "id": "16e91897",
   "metadata": {},
   "outputs": [
    {
     "data": {
      "text/plain": [
       "[]"
      ]
     },
     "execution_count": 72,
     "metadata": {},
     "output_type": "execute_result"
    }
   ],
   "source": [
    "list_2"
   ]
  },
  {
   "cell_type": "code",
   "execution_count": 73,
   "id": "d0670093",
   "metadata": {},
   "outputs": [],
   "source": [
    "list_2.append(\"hello\")"
   ]
  },
  {
   "cell_type": "code",
   "execution_count": 74,
   "id": "7c58dff7",
   "metadata": {},
   "outputs": [
    {
     "data": {
      "text/plain": [
       "['hello']"
      ]
     },
     "execution_count": 74,
     "metadata": {},
     "output_type": "execute_result"
    }
   ],
   "source": [
    "list_2"
   ]
  },
  {
   "cell_type": "code",
   "execution_count": 75,
   "id": "75fa6965",
   "metadata": {},
   "outputs": [
    {
     "ename": "TypeError",
     "evalue": "can only concatenate list (not \"str\") to list",
     "output_type": "error",
     "traceback": [
      "\u001b[31m---------------------------------------------------------------------------\u001b[39m",
      "\u001b[31mTypeError\u001b[39m                                 Traceback (most recent call last)",
      "\u001b[36mCell\u001b[39m\u001b[36m \u001b[39m\u001b[32mIn[75]\u001b[39m\u001b[32m, line 1\u001b[39m\n\u001b[32m----> \u001b[39m\u001b[32m1\u001b[39m \u001b[43mlist_2\u001b[49m\u001b[43m \u001b[49m\u001b[43m+\u001b[49m\u001b[43m \u001b[49m\u001b[43m(\u001b[49m\u001b[33;43m\"\u001b[39;49m\u001b[33;43mhello\u001b[39;49m\u001b[33;43m\"\u001b[39;49m\u001b[43m)\u001b[49m\n",
      "\u001b[31mTypeError\u001b[39m: can only concatenate list (not \"str\") to list"
     ]
    }
   ],
   "source": [
    "list_2 + (\"hello\")"
   ]
  },
  {
   "cell_type": "code",
   "execution_count": 76,
   "id": "a1d76420",
   "metadata": {},
   "outputs": [
    {
     "data": {
      "text/plain": [
       "['hello', 'hello']"
      ]
     },
     "execution_count": 76,
     "metadata": {},
     "output_type": "execute_result"
    }
   ],
   "source": [
    "list_2 + [\"hello\"]"
   ]
  },
  {
   "cell_type": "code",
   "execution_count": 77,
   "id": "70c4d5f8",
   "metadata": {},
   "outputs": [
    {
     "data": {
      "text/plain": [
       "{'apple', 'book', 'box', 'cat', 'coat', 'hair', 'id card', 'lock'}"
      ]
     },
     "execution_count": 77,
     "metadata": {},
     "output_type": "execute_result"
    }
   ],
   "source": [
    "things = {'coat', 'lock', 'box', 'book', 'apple','hair', 'id card', 'book', 'coat', 'cat'}\n",
    "things"
   ]
  },
  {
   "cell_type": "code",
   "execution_count": 78,
   "id": "5009e940",
   "metadata": {},
   "outputs": [
    {
     "data": {
      "text/plain": [
       "8"
      ]
     },
     "execution_count": 78,
     "metadata": {},
     "output_type": "execute_result"
    }
   ],
   "source": [
    "len(things)"
   ]
  },
  {
   "cell_type": "code",
   "execution_count": 89,
   "id": "ba4ac9c7",
   "metadata": {},
   "outputs": [
    {
     "data": {
      "text/plain": [
       "set"
      ]
     },
     "execution_count": 89,
     "metadata": {},
     "output_type": "execute_result"
    }
   ],
   "source": [
    "type(things)"
   ]
  },
  {
   "cell_type": "code",
   "execution_count": 82,
   "id": "e06b08cb",
   "metadata": {},
   "outputs": [
    {
     "ename": "AttributeError",
     "evalue": "'set' object has no attribute 'sort'",
     "output_type": "error",
     "traceback": [
      "\u001b[31m---------------------------------------------------------------------------\u001b[39m",
      "\u001b[31mAttributeError\u001b[39m                            Traceback (most recent call last)",
      "\u001b[36mCell\u001b[39m\u001b[36m \u001b[39m\u001b[32mIn[82]\u001b[39m\u001b[32m, line 1\u001b[39m\n\u001b[32m----> \u001b[39m\u001b[32m1\u001b[39m \u001b[43mthings\u001b[49m\u001b[43m.\u001b[49m\u001b[43msort\u001b[49m()\n",
      "\u001b[31mAttributeError\u001b[39m: 'set' object has no attribute 'sort'"
     ]
    }
   ],
   "source": [
    "things.sort()"
   ]
  },
  {
   "cell_type": "code",
   "execution_count": 83,
   "id": "b6584a80",
   "metadata": {},
   "outputs": [
    {
     "data": {
      "text/plain": [
       "set"
      ]
     },
     "execution_count": 83,
     "metadata": {},
     "output_type": "execute_result"
    }
   ],
   "source": [
    "type(things)"
   ]
  },
  {
   "cell_type": "code",
   "execution_count": 84,
   "id": "529e8ee7",
   "metadata": {},
   "outputs": [
    {
     "data": {
      "text/plain": [
       "4"
      ]
     },
     "execution_count": 84,
     "metadata": {},
     "output_type": "execute_result"
    }
   ],
   "source": [
    "postal_codes = [\"M2G\", \"M2G\", \"M1M\", \"M5G\"]\n",
    "len(postal_codes)"
   ]
  },
  {
   "cell_type": "code",
   "execution_count": 87,
   "id": "81407b7e",
   "metadata": {},
   "outputs": [
    {
     "data": {
      "text/plain": [
       "{'M1M', 'M2G', 'M5G'}"
      ]
     },
     "execution_count": 87,
     "metadata": {},
     "output_type": "execute_result"
    }
   ],
   "source": [
    "cleaned_postal_code = set(postal_codes)\n",
    "cleaned_postal_code"
   ]
  },
  {
   "cell_type": "code",
   "execution_count": 88,
   "id": "11b42506",
   "metadata": {},
   "outputs": [
    {
     "data": {
      "text/plain": [
       "3"
      ]
     },
     "execution_count": 88,
     "metadata": {},
     "output_type": "execute_result"
    }
   ],
   "source": [
    "len(cleaned_postal_code)"
   ]
  },
  {
   "cell_type": "code",
   "execution_count": 90,
   "id": "8d9296ed",
   "metadata": {},
   "outputs": [
    {
     "data": {
      "text/plain": [
       "dict"
      ]
     },
     "execution_count": 90,
     "metadata": {},
     "output_type": "execute_result"
    }
   ],
   "source": [
    "new_item = { }\n",
    "type(new_item)"
   ]
  },
  {
   "cell_type": "code",
   "execution_count": 91,
   "id": "76b95a5a",
   "metadata": {},
   "outputs": [
    {
     "data": {
      "text/plain": [
       "tuple"
      ]
     },
     "execution_count": 91,
     "metadata": {},
     "output_type": "execute_result"
    }
   ],
   "source": [
    "new_item_2 = ( )\n",
    "type(new_item_2)"
   ]
  },
  {
   "cell_type": "code",
   "execution_count": 92,
   "id": "c05dfd3a",
   "metadata": {},
   "outputs": [
    {
     "data": {
      "text/plain": [
       "set"
      ]
     },
     "execution_count": 92,
     "metadata": {},
     "output_type": "execute_result"
    }
   ],
   "source": [
    "new_item_3 = set( )\n",
    "type(new_item_3)"
   ]
  },
  {
   "cell_type": "code",
   "execution_count": 97,
   "id": "4140c0b2",
   "metadata": {},
   "outputs": [
    {
     "data": {
      "text/plain": [
       "{'aurora', 'eg', 'newmarket'}"
      ]
     },
     "execution_count": 97,
     "metadata": {},
     "output_type": "execute_result"
    }
   ],
   "source": [
    "york_region = {\"newmarket\",'aurora','eg','rh','markham'}\n",
    "north_york_region = {'newmarket', 'aurora','eg'}\n",
    "north_york_region"
   ]
  },
  {
   "cell_type": "code",
   "execution_count": 98,
   "id": "d25051e3",
   "metadata": {},
   "outputs": [
    {
     "data": {
      "text/plain": [
       "{'markham', 'rh'}"
      ]
     },
     "execution_count": 98,
     "metadata": {},
     "output_type": "execute_result"
    }
   ],
   "source": [
    "york_region.difference(north_york_region)"
   ]
  },
  {
   "cell_type": "code",
   "execution_count": 99,
   "id": "11e518b9",
   "metadata": {},
   "outputs": [
    {
     "data": {
      "text/plain": [
       "set()"
      ]
     },
     "execution_count": 99,
     "metadata": {},
     "output_type": "execute_result"
    }
   ],
   "source": [
    "north_york_region.difference(york_region)"
   ]
  },
  {
   "cell_type": "code",
   "execution_count": 118,
   "id": "d572ee57",
   "metadata": {},
   "outputs": [
    {
     "data": {
      "text/plain": [
       "dict"
      ]
     },
     "execution_count": 118,
     "metadata": {},
     "output_type": "execute_result"
    }
   ],
   "source": [
    "capitals = {\"Canada\":\"Ottawa\", \"Mexico\":\"Mexico City\", \"Canada\":\"Happy\"}\n",
    "type(capitals)"
   ]
  },
  {
   "cell_type": "code",
   "execution_count": 119,
   "id": "d9e50046",
   "metadata": {},
   "outputs": [
    {
     "data": {
      "text/plain": [
       "'Happy'"
      ]
     },
     "execution_count": 119,
     "metadata": {},
     "output_type": "execute_result"
    }
   ],
   "source": [
    "capitals[\"Canada\"]"
   ]
  },
  {
   "cell_type": "code",
   "execution_count": 120,
   "id": "79bf1db4",
   "metadata": {},
   "outputs": [
    {
     "data": {
      "text/plain": [
       "'Beijing'"
      ]
     },
     "execution_count": 120,
     "metadata": {},
     "output_type": "execute_result"
    }
   ],
   "source": [
    "capitals.get(\"China\", \"Beijing\")"
   ]
  },
  {
   "cell_type": "code",
   "execution_count": 121,
   "id": "abc1e0ab",
   "metadata": {},
   "outputs": [
    {
     "data": {
      "text/plain": [
       "{'Canada': 'Happy', 'Mexico': 'Mexico City'}"
      ]
     },
     "execution_count": 121,
     "metadata": {},
     "output_type": "execute_result"
    }
   ],
   "source": [
    "capitals"
   ]
  },
  {
   "cell_type": "code",
   "execution_count": 124,
   "id": "21522864",
   "metadata": {},
   "outputs": [
    {
     "ename": "SyntaxError",
     "evalue": "invalid syntax (3988402761.py, line 1)",
     "output_type": "error",
     "traceback": [
      "  \u001b[36mCell\u001b[39m\u001b[36m \u001b[39m\u001b[32mIn[124]\u001b[39m\u001b[32m, line 1\u001b[39m\n\u001b[31m    \u001b[39m\u001b[31mcapitals.append{\"China\":\"Beijing\"}\u001b[39m\n                   ^\n\u001b[31mSyntaxError\u001b[39m\u001b[31m:\u001b[39m invalid syntax\n"
     ]
    }
   ],
   "source": [
    "capitals.append{\"China\":\"Beijing\"}"
   ]
  },
  {
   "cell_type": "code",
   "execution_count": null,
   "id": "18d9d730",
   "metadata": {},
   "outputs": [],
   "source": []
  }
 ],
 "metadata": {
  "kernelspec": {
   "display_name": "python-env",
   "language": "python",
   "name": "python3"
  },
  "language_info": {
   "codemirror_mode": {
    "name": "ipython",
    "version": 3
   },
   "file_extension": ".py",
   "mimetype": "text/x-python",
   "name": "python",
   "nbconvert_exporter": "python",
   "pygments_lexer": "ipython3",
   "version": "3.11.4"
  }
 },
 "nbformat": 4,
 "nbformat_minor": 5
}
