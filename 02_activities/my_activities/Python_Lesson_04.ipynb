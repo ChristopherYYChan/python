{
 "cells": [
  {
   "cell_type": "code",
   "execution_count": 1,
   "id": "fb39f575",
   "metadata": {},
   "outputs": [
    {
     "data": {
      "text/plain": [
       "3"
      ]
     },
     "execution_count": 1,
     "metadata": {},
     "output_type": "execute_result"
    }
   ],
   "source": [
    "characters = [1,2,3,'a','b','c']\n",
    "characters[2]\n"
   ]
  },
  {
   "cell_type": "markdown",
   "id": "b02239ce",
   "metadata": {},
   "source": [
    "Lists are mutable - data types that are mutable are modified in place"
   ]
  }
 ],
 "metadata": {
  "kernelspec": {
   "display_name": "python-env",
   "language": "python",
   "name": "python3"
  },
  "language_info": {
   "codemirror_mode": {
    "name": "ipython",
    "version": 3
   },
   "file_extension": ".py",
   "mimetype": "text/x-python",
   "name": "python",
   "nbconvert_exporter": "python",
   "pygments_lexer": "ipython3",
   "version": "3.11.4"
  }
 },
 "nbformat": 4,
 "nbformat_minor": 5
}
