{
 "cells": [
  {
   "cell_type": "code",
   "execution_count": 1,
   "id": "fb39f575",
   "metadata": {},
   "outputs": [
    {
     "data": {
      "text/plain": [
       "3"
      ]
     },
     "execution_count": 1,
     "metadata": {},
     "output_type": "execute_result"
    }
   ],
   "source": [
    "characters = [1,2,3,'a','b','c']\n",
    "characters[2]\n"
   ]
  },
  {
   "cell_type": "markdown",
   "id": "b02239ce",
   "metadata": {},
   "source": [
    "Lists are mutable - data types that are mutable are modified in place"
   ]
  },
  {
   "cell_type": "code",
   "execution_count": 2,
   "id": "8c305047",
   "metadata": {},
   "outputs": [],
   "source": [
    "julia = [\"bread\",'cheese','happy']\n",
    "kaylie = julia"
   ]
  },
  {
   "cell_type": "code",
   "execution_count": 3,
   "id": "bdd392ac",
   "metadata": {},
   "outputs": [
    {
     "data": {
      "text/plain": [
       "['bread', 'blue cheese', 'happy']"
      ]
     },
     "execution_count": 3,
     "metadata": {},
     "output_type": "execute_result"
    }
   ],
   "source": [
    "julia[1] = 'blue cheese'\n",
    "kaylie"
   ]
  },
  {
   "cell_type": "code",
   "execution_count": 4,
   "id": "a5361296",
   "metadata": {},
   "outputs": [
    {
     "data": {
      "text/plain": [
       "3"
      ]
     },
     "execution_count": 4,
     "metadata": {},
     "output_type": "execute_result"
    }
   ],
   "source": [
    "len(julia)"
   ]
  },
  {
   "cell_type": "code",
   "execution_count": 5,
   "id": "190b17b0",
   "metadata": {},
   "outputs": [
    {
     "data": {
      "text/plain": [
       "11"
      ]
     },
     "execution_count": 5,
     "metadata": {},
     "output_type": "execute_result"
    }
   ],
   "source": [
    "len(julia[1])"
   ]
  },
  {
   "cell_type": "code",
   "execution_count": 6,
   "id": "c0cd6aab",
   "metadata": {},
   "outputs": [],
   "source": [
    "julia[2] = \"bottle\""
   ]
  },
  {
   "cell_type": "code",
   "execution_count": 7,
   "id": "b3e3dbcf",
   "metadata": {},
   "outputs": [
    {
     "data": {
      "text/plain": [
       "['bread', 'blue cheese', 'bottle']"
      ]
     },
     "execution_count": 7,
     "metadata": {},
     "output_type": "execute_result"
    }
   ],
   "source": [
    "julia"
   ]
  },
  {
   "cell_type": "code",
   "execution_count": 11,
   "id": "819a8da0",
   "metadata": {},
   "outputs": [
    {
     "data": {
      "text/plain": [
       "['bread', 'blue cheese', 'bottle']"
      ]
     },
     "execution_count": 11,
     "metadata": {},
     "output_type": "execute_result"
    }
   ],
   "source": [
    "julia[:]"
   ]
  },
  {
   "cell_type": "code",
   "execution_count": null,
   "id": "14d7eb71",
   "metadata": {},
   "outputs": [],
   "source": []
  }
 ],
 "metadata": {
  "kernelspec": {
   "display_name": "python-env",
   "language": "python",
   "name": "python3"
  },
  "language_info": {
   "codemirror_mode": {
    "name": "ipython",
    "version": 3
   },
   "file_extension": ".py",
   "mimetype": "text/x-python",
   "name": "python",
   "nbconvert_exporter": "python",
   "pygments_lexer": "ipython3",
   "version": "3.11.4"
  }
 },
 "nbformat": 4,
 "nbformat_minor": 5
}
