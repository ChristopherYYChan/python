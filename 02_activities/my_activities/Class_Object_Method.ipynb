{
 "cells": [
  {
   "cell_type": "code",
   "execution_count": null,
   "id": "8a211d16",
   "metadata": {},
   "outputs": [],
   "source": [
    "class Car:\n",
    "    def __init__(self, name, make, model, vin): #defining the properties of a car\n",
    "        self.name = name\n",
    "        self.make = make\n",
    "        self.model = model\n",
    "        self.vin = vin\n",
    "    \n",
    "    def honk(self): #defining a method/ something that a car(that class) can do\n",
    "        print(\"beeeeep!!!\")"
   ]
  },
  {
   "cell_type": "code",
   "execution_count": 4,
   "id": "afae8c72",
   "metadata": {},
   "outputs": [
    {
     "data": {
      "text/plain": [
       "'1234587MA'"
      ]
     },
     "execution_count": 4,
     "metadata": {},
     "output_type": "execute_result"
    }
   ],
   "source": [
    "Cyy_car = Car(\"Goodboy\", \"Dodge\", \"GrandCaravan\", \"1234587MA\")\n",
    "Jan_car = Car(\"Goodgirl\", \"Kia\", \"Seltos\", \"KN1297U1234\")\n",
    "\n",
    "Cyy_car.vin"
   ]
  },
  {
   "cell_type": "code",
   "execution_count": 5,
   "id": "119dffaa",
   "metadata": {},
   "outputs": [
    {
     "name": "stdout",
     "output_type": "stream",
     "text": [
      "beeeeep!!!\n"
     ]
    }
   ],
   "source": [
    "Cyy_car.honk()"
   ]
  },
  {
   "cell_type": "code",
   "execution_count": 11,
   "id": "6b468009",
   "metadata": {},
   "outputs": [
    {
     "name": "stdout",
     "output_type": "stream",
     "text": [
      "Hello, I am Cyy\n"
     ]
    }
   ],
   "source": [
    "#We usually create a class name with title upper case, though not a must\n",
    "# __init__ is a special method in Python classes\n",
    "# stands for initialize, automatically called when a new object of a class is created\n",
    "# to initialize the object's attributes or properties\n",
    "\n",
    "# self is a reference to the current instance of the class\n",
    "# always the first parameter in every method definition in a class\n",
    "\n",
    "class Person:\n",
    "    def __init__(self, name, age):\n",
    "        self.name = name\n",
    "        self.age = age\n",
    "    \n",
    "    def greet(self):\n",
    "        print(f\"Hello, I am {self.name}\")\n",
    "\n",
    "id01 = Person(\"Cyy\", 36)\n",
    "\n",
    "id01.name\n",
    "id01.greet()\n"
   ]
  },
  {
   "cell_type": "code",
   "execution_count": null,
   "id": "0c19a764",
   "metadata": {},
   "outputs": [],
   "source": []
  }
 ],
 "metadata": {
  "kernelspec": {
   "display_name": "python-env",
   "language": "python",
   "name": "python3"
  },
  "language_info": {
   "codemirror_mode": {
    "name": "ipython",
    "version": 3
   },
   "file_extension": ".py",
   "mimetype": "text/x-python",
   "name": "python",
   "nbconvert_exporter": "python",
   "pygments_lexer": "ipython3",
   "version": "3.11.4"
  }
 },
 "nbformat": 4,
 "nbformat_minor": 5
}
