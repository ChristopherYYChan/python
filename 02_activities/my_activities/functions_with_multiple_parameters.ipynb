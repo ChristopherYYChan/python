{
 "cells": [
  {
   "cell_type": "code",
   "execution_count": 12,
   "id": "3a9bc10c",
   "metadata": {},
   "outputs": [
    {
     "data": {
      "text/plain": [
       "(174.2, 0.15, 20)"
      ]
     },
     "execution_count": 12,
     "metadata": {},
     "output_type": "execute_result"
    }
   ],
   "source": [
    "def cal_sales_tax(price, tax_rate = 0.13, tip_rate = 0.15):\n",
    "    sales_tax = price * tax_rate\n",
    "    tips = price * tip_rate\n",
    "    total = price + sales_tax + tips\n",
    "    return total, tax_rate, round(tips)\n",
    "\n",
    "customer_1 = cal_sales_tax(134, 0.15)\n",
    "customer_1"
   ]
  },
  {
   "cell_type": "markdown",
   "id": "12e8c456",
   "metadata": {},
   "source": [
    "We can return many variables in the return line\n",
    "and the variables can also be modified differently"
   ]
  },
  {
   "cell_type": "code",
   "execution_count": 15,
   "id": "40e7de3d",
   "metadata": {},
   "outputs": [
    {
     "name": "stdout",
     "output_type": "stream",
     "text": [
      "15.0%\n"
     ]
    },
    {
     "data": {
      "text/plain": [
       "(174.2, None, 20)"
      ]
     },
     "execution_count": 15,
     "metadata": {},
     "output_type": "execute_result"
    }
   ],
   "source": [
    "def cal_sales_tax_print(price, tax_rate = 0.13, tip_rate = 0.15):\n",
    "    sales_tax = price * tax_rate\n",
    "    tips = price * tip_rate\n",
    "    total = price + sales_tax + tips\n",
    "    return total, print(str(tax_rate*100) + \"%\"), round(tips)\n",
    "\n",
    "customer_1 = cal_sales_tax_print(134, 0.15)\n",
    "customer_1"
   ]
  },
  {
   "cell_type": "markdown",
   "id": "766601f4",
   "metadata": {},
   "source": [
    "However, in this scenario, \"print\" is performed first before returning all the output as it is a string but not numbers"
   ]
  },
  {
   "cell_type": "code",
   "execution_count": 16,
   "id": "32abf1dc",
   "metadata": {},
   "outputs": [
    {
     "data": {
      "text/plain": [
       "(141.25, 0.13, 0)"
      ]
     },
     "execution_count": 16,
     "metadata": {},
     "output_type": "execute_result"
    }
   ],
   "source": [
    "customer_2 = cal_sales_tax(125, tip_rate = 0)\n",
    "customer_2"
   ]
  },
  {
   "cell_type": "code",
   "execution_count": 17,
   "id": "a76c9efd",
   "metadata": {},
   "outputs": [
    {
     "data": {
      "text/plain": [
       "(62.5, 0.1, 8)"
      ]
     },
     "execution_count": 17,
     "metadata": {},
     "output_type": "execute_result"
    }
   ],
   "source": [
    "customer_3 = cal_sales_tax(tax_rate = 0.1, price = 50)\n",
    "customer_3"
   ]
  },
  {
   "cell_type": "code",
   "execution_count": 21,
   "id": "108480c4",
   "metadata": {},
   "outputs": [
    {
     "data": {
      "text/plain": [
       "(160.0, 0.13, 19)"
      ]
     },
     "execution_count": 21,
     "metadata": {},
     "output_type": "execute_result"
    }
   ],
   "source": [
    "new_price = 125\n",
    "\n",
    "customer_4 = cal_sales_tax(new_price)\n",
    "customer_4\n"
   ]
  },
  {
   "cell_type": "markdown",
   "id": "becc6b12",
   "metadata": {},
   "source": [
    "In terms of global scope and local scope, the function have access to the global variables\n",
    "so if we set a new variable called new_price and put it as the first parameter, \n",
    "the function will understand this value and runs properly.\n",
    "However, we can't call print(tax_rate) out of the function as tax_rate is defined within the function(locally) but not globally\n"
   ]
  },
  {
   "cell_type": "code",
   "execution_count": 22,
   "id": "03a51f92",
   "metadata": {},
   "outputs": [
    {
     "data": {
      "text/plain": [
       "\"Let's see if it's a dog\""
      ]
     },
     "execution_count": 22,
     "metadata": {},
     "output_type": "execute_result"
    }
   ],
   "source": [
    "\"Let's see if it's a dog\""
   ]
  },
  {
   "cell_type": "markdown",
   "id": "95f5d1a5",
   "metadata": {},
   "source": [
    "Use a double quote to have a line containing ' in string"
   ]
  },
  {
   "cell_type": "code",
   "execution_count": 24,
   "id": "92fec011",
   "metadata": {},
   "outputs": [
    {
     "data": {
      "text/plain": [
       "'hahahahahahahaha'"
      ]
     },
     "execution_count": 24,
     "metadata": {},
     "output_type": "execute_result"
    }
   ],
   "source": [
    "\"ha\" *8"
   ]
  },
  {
   "cell_type": "code",
   "execution_count": 26,
   "id": "b2a9e986",
   "metadata": {},
   "outputs": [
    {
     "data": {
      "text/plain": [
       "'hello worldhello'"
      ]
     },
     "execution_count": 26,
     "metadata": {},
     "output_type": "execute_result"
    }
   ],
   "source": [
    "\"hello world\" + \"hello\""
   ]
  },
  {
   "cell_type": "code",
   "execution_count": 28,
   "id": "21c681fa",
   "metadata": {},
   "outputs": [
    {
     "data": {
      "text/plain": [
       "50"
      ]
     },
     "execution_count": 28,
     "metadata": {},
     "output_type": "execute_result"
    }
   ],
   "source": [
    "Apple = 50\n",
    "apple = Apple\n",
    "apple"
   ]
  },
  {
   "cell_type": "code",
   "execution_count": 30,
   "id": "a579cb5a",
   "metadata": {},
   "outputs": [
    {
     "data": {
      "text/plain": [
       "True"
      ]
     },
     "execution_count": 30,
     "metadata": {},
     "output_type": "execute_result"
    }
   ],
   "source": [
    "\"20\" == str(20)"
   ]
  },
  {
   "cell_type": "code",
   "execution_count": null,
   "id": "f617a7f9",
   "metadata": {},
   "outputs": [],
   "source": []
  }
 ],
 "metadata": {
  "kernelspec": {
   "display_name": "python-env",
   "language": "python",
   "name": "python3"
  },
  "language_info": {
   "codemirror_mode": {
    "name": "ipython",
    "version": 3
   },
   "file_extension": ".py",
   "mimetype": "text/x-python",
   "name": "python",
   "nbconvert_exporter": "python",
   "pygments_lexer": "ipython3",
   "version": "3.11.4"
  }
 },
 "nbformat": 4,
 "nbformat_minor": 5
}
