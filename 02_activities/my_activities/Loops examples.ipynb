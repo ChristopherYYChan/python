{
 "cells": [
  {
   "cell_type": "code",
   "execution_count": 26,
   "id": "90aa3881",
   "metadata": {},
   "outputs": [
    {
     "name": "stdout",
     "output_type": "stream",
     "text": [
      "Monday\n",
      "Tuesday\n",
      "Wednesday\n",
      "Thursday\n"
     ]
    }
   ],
   "source": [
    "for i in [\"Monday\", \"Tuesday\",\"Wednesday\",\"Thursday\"]: #1st loop, i = Monday, 2nd loop, i = Tuesday, etc\n",
    "    print(i)"
   ]
  },
  {
   "cell_type": "markdown",
   "id": "2c913f01",
   "metadata": {},
   "source": [
    "Until all the items in the parameter is ran, then it will run the next command"
   ]
  },
  {
   "cell_type": "code",
   "execution_count": 27,
   "id": "4e183713",
   "metadata": {},
   "outputs": [
    {
     "name": "stdout",
     "output_type": "stream",
     "text": [
      "1\n",
      "2\n",
      "3\n",
      "4\n",
      "5\n"
     ]
    }
   ],
   "source": [
    "for number in {1,2,3,4,5}: #it works in set as well. \n",
    "    print(number)"
   ]
  },
  {
   "cell_type": "code",
   "execution_count": 28,
   "id": "dcfb552f",
   "metadata": {},
   "outputs": [
    {
     "data": {
      "text/plain": [
       "{'cat', 'dog', 'fork', 'zpple'}"
      ]
     },
     "execution_count": 28,
     "metadata": {},
     "output_type": "execute_result"
    }
   ],
   "source": [
    "items = {\"cat\", \"zpple\", \"dog\", \"fork\"}\n",
    "items"
   ]
  },
  {
   "cell_type": "markdown",
   "id": "8b9b712c",
   "metadata": {},
   "source": [
    "Unsure why it happens this way"
   ]
  },
  {
   "cell_type": "code",
   "execution_count": 29,
   "id": "95b376ec",
   "metadata": {},
   "outputs": [
    {
     "name": "stdout",
     "output_type": "stream",
     "text": [
      "zpple\n",
      "dog\n",
      "fork\n",
      "cat\n"
     ]
    }
   ],
   "source": [
    "for item in items:\n",
    "    print(item)"
   ]
  },
  {
   "cell_type": "code",
   "execution_count": 34,
   "id": "39392f09",
   "metadata": {},
   "outputs": [
    {
     "name": "stdout",
     "output_type": "stream",
     "text": [
      "0 0\n",
      "1 1\n",
      "2 4\n",
      "3 9\n",
      "4 16\n",
      "5 25\n",
      "6 36\n"
     ]
    }
   ],
   "source": [
    "for i in range(7):\n",
    "    print(i, i**2)"
   ]
  },
  {
   "cell_type": "code",
   "execution_count": 36,
   "id": "9111585e",
   "metadata": {},
   "outputs": [
    {
     "name": "stdout",
     "output_type": "stream",
     "text": [
      "2\n",
      "3\n",
      "4\n",
      "5\n"
     ]
    }
   ],
   "source": [
    "for i in range (2,6):\n",
    "    print (i)"
   ]
  },
  {
   "cell_type": "code",
   "execution_count": 40,
   "id": "0f04e2d3",
   "metadata": {},
   "outputs": [
    {
     "data": {
      "text/plain": [
       "['data_01.xlsx', 'data_02.xlsx', 'data_03.xlsx']"
      ]
     },
     "execution_count": 40,
     "metadata": {},
     "output_type": "execute_result"
    }
   ],
   "source": [
    "input_files = [\"data_01.csv\", \"data_02.csv\", \"data_03.csv\"]\n",
    "output_files = [] #create a new list first so that we can use this list \n",
    "\n",
    "for file in input_files:\n",
    "    output_file_name = file.replace(\".csv\",'.xlsx')\n",
    "    output_files.append(output_file_name)\n",
    "\n",
    "output_files"
   ]
  },
  {
   "cell_type": "code",
   "execution_count": 45,
   "id": "c7bd02a4",
   "metadata": {},
   "outputs": [
    {
     "name": "stdout",
     "output_type": "stream",
     "text": [
      "0 is Veggies\n",
      "1 is Veggies\n",
      "2 is Happy\n",
      "3 is Bible\n"
     ]
    }
   ],
   "source": [
    "for idx, food in enumerate([\"Veggies\", \"Veggies\", \"Happy\", \"Bible\"]):\n",
    "    print(idx, \"is \" + food)"
   ]
  },
  {
   "cell_type": "code",
   "execution_count": 4,
   "id": "787f64a8",
   "metadata": {},
   "outputs": [
    {
     "name": "stdout",
     "output_type": "stream",
     "text": [
      "4\n",
      "3\n",
      "2\n",
      "1\n"
     ]
    }
   ],
   "source": [
    "#while loop - a value(?) has to be set up first\n",
    "\n",
    "countdown = 4\n",
    "\n",
    "while countdown > 0:\n",
    "    print(countdown)\n",
    "    countdown -= 1"
   ]
  },
  {
   "cell_type": "code",
   "execution_count": null,
   "id": "337bab6a",
   "metadata": {},
   "outputs": [
    {
     "name": "stdout",
     "output_type": "stream",
     "text": [
      "5\n",
      "4\n",
      "We will break at 3\n",
      "hello\n"
     ]
    }
   ],
   "source": [
    "# break statement interrupts the execution of a loop --> exiting the loop\n",
    "# just use the previous countdown value as example\n",
    "\n",
    "countdown = 5\n",
    "\n",
    "while countdown > 0:\n",
    "    print(countdown)\n",
    "    countdown -=1\n",
    "    if countdown ==3:\n",
    "        print(\"We will break at 3\")\n",
    "        break\n",
    "print(countdown) # in this case, it prints after the while loop is over"
   ]
  },
  {
   "cell_type": "code",
   "execution_count": 10,
   "id": "5de97069",
   "metadata": {},
   "outputs": [
    {
     "name": "stdout",
     "output_type": "stream",
     "text": [
      "5\n",
      "hello\n",
      "4\n",
      "We will break at 3\n"
     ]
    }
   ],
   "source": [
    "# break statement interrupts the execution of a loop --> exiting the loop\n",
    "# just use the previous countdown value as example\n",
    "\n",
    "countdown = 5\n",
    "\n",
    "while countdown > 0:\n",
    "    print(countdown)\n",
    "    countdown -=1\n",
    "    if countdown ==3:\n",
    "        print(\"We will break at 3\")\n",
    "        break\n",
    "    print(\"hello\") # in this case, it prints within the while loop"
   ]
  },
  {
   "cell_type": "code",
   "execution_count": null,
   "id": "abd96c21",
   "metadata": {},
   "outputs": [
    {
     "name": "stdout",
     "output_type": "stream",
     "text": [
      "You can't do that!\n",
      "You can't do that!\n",
      "You want hello? Wish granted\n",
      "You want a? Wish granted\n",
      "You want d? Wish granted\n",
      "You have used all your wishes.\n"
     ]
    }
   ],
   "source": [
    "# continue statement says to leave the current iteration of the loop and start back up at the top\n",
    "\n",
    "wishes = 3\n",
    "\n",
    "while wishes > 0:\n",
    "    wish = input(\"Make a wish:  \") #now it is interactive!\n",
    "    if 'infinite wishes' in wish.lower():  #or we can use \"infinite wishes\" == wish.lower()\n",
    "        print(\"You can\\'t do that!\")\n",
    "        continue\n",
    "    else:\n",
    "        print(f\"You want {wish}? Wish granted\")\n",
    "    wishes -=1      #mind the intendation of the wishes -= 1, should be just 1 intendation under the while loop\n",
    "\n",
    "print(\"You have used all your wishes.\")"
   ]
  },
  {
   "cell_type": "code",
   "execution_count": null,
   "id": "8657ba7d",
   "metadata": {},
   "outputs": [
    {
     "name": "stdout",
     "output_type": "stream",
     "text": [
      "Now it is 12.0 x 3\n",
      "35\n",
      "34\n",
      "Now it is 11.0 x 3\n",
      "32\n",
      "31\n",
      "Now it is 10.0 x 3\n",
      "29\n",
      "28\n",
      "Now it is 9.0 x 3\n",
      "26\n",
      "25\n",
      "Now it is 8.0 x 3\n",
      "23\n",
      "22\n",
      "Now it is 7.0 x 3\n",
      "20\n",
      "19\n",
      "Now it is 6.0 x 3\n",
      "17\n",
      "16\n",
      "Now it is 5.0 x 3\n",
      "14\n",
      "13\n",
      "Now it is 4.0 x 3\n",
      "11\n",
      "10\n",
      "Now it is 3.0 x 3\n",
      "8\n",
      "7\n",
      "Now it is 2.0 x 3\n",
      "5\n",
      "4\n",
      "Now it is 1.0 x 3\n",
      "2\n",
      "1\n",
      "hello\n"
     ]
    }
   ],
   "source": [
    "countdown = 36\n",
    "#while we can't do all integers, we can use divisible or not\n",
    "\n",
    "while countdown > 0:   \n",
    "    if countdown %3 != 0:       \n",
    "        print(countdown)\n",
    "    else:\n",
    "        multiple = countdown/3\n",
    "        print(f\"Now it is {multiple} x 3\")\n",
    "    countdown -=1\n",
    "print(\"hello\") "
   ]
  },
  {
   "cell_type": "code",
   "execution_count": null,
   "id": "52cef5a7",
   "metadata": {},
   "outputs": [],
   "source": []
  }
 ],
 "metadata": {
  "kernelspec": {
   "display_name": "python-env",
   "language": "python",
   "name": "python3"
  },
  "language_info": {
   "codemirror_mode": {
    "name": "ipython",
    "version": 3
   },
   "file_extension": ".py",
   "mimetype": "text/x-python",
   "name": "python",
   "nbconvert_exporter": "python",
   "pygments_lexer": "ipython3",
   "version": "3.11.4"
  }
 },
 "nbformat": 4,
 "nbformat_minor": 5
}
