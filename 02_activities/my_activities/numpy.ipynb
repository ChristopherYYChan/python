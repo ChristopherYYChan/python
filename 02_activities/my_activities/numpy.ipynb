{
 "cells": [
  {
   "cell_type": "code",
   "execution_count": 71,
   "id": "a6b94d44",
   "metadata": {},
   "outputs": [],
   "source": [
    "import numpy as np\n",
    "# numpy allows us to works with arrays"
   ]
  },
  {
   "cell_type": "code",
   "execution_count": 72,
   "id": "abeb7947",
   "metadata": {},
   "outputs": [
    {
     "data": {
      "text/plain": [
       "array([[1, 2, 3],\n",
       "       [4, 5, 6]])"
      ]
     },
     "execution_count": 72,
     "metadata": {},
     "output_type": "execute_result"
    }
   ],
   "source": [
    "abc = np.array([[1,2,3],[4,5,6]]) #the 2 smaller brackets are in 2 rows\n",
    "abc"
   ]
  },
  {
   "cell_type": "markdown",
   "id": "13c5a5fa",
   "metadata": {},
   "source": []
  },
  {
   "cell_type": "code",
   "execution_count": 73,
   "id": "2b86592a",
   "metadata": {},
   "outputs": [
    {
     "name": "stdout",
     "output_type": "stream",
     "text": [
      "2\n",
      "(2, 3)\n",
      "6\n",
      "int64\n"
     ]
    }
   ],
   "source": [
    "print(abc.ndim) #print the number of dimension abc is\n",
    "print(abc.shape) #rows , columns\n",
    "print(abc.size) # rows x columns\n",
    "print(abc.dtype)"
   ]
  },
  {
   "cell_type": "code",
   "execution_count": 74,
   "id": "c9317d6a",
   "metadata": {},
   "outputs": [
    {
     "data": {
      "text/plain": [
       "array([[[0., 0., 0.],\n",
       "        [0., 0., 0.],\n",
       "        [0., 0., 0.]],\n",
       "\n",
       "       [[0., 0., 0.],\n",
       "        [0., 0., 0.],\n",
       "        [0., 0., 0.]]])"
      ]
     },
     "execution_count": 74,
     "metadata": {},
     "output_type": "execute_result"
    }
   ],
   "source": [
    "np.zeros((2,3,3))"
   ]
  },
  {
   "cell_type": "code",
   "execution_count": 75,
   "id": "83246238",
   "metadata": {},
   "outputs": [
    {
     "data": {
      "text/plain": [
       "array([[1, 1, 1],\n",
       "       [1, 1, 1]])"
      ]
     },
     "execution_count": 75,
     "metadata": {},
     "output_type": "execute_result"
    }
   ],
   "source": [
    "np.ones_like(abc) #but twos not usable!"
   ]
  },
  {
   "cell_type": "code",
   "execution_count": 76,
   "id": "773a540b",
   "metadata": {},
   "outputs": [
    {
     "data": {
      "text/plain": [
       "array([[[0., 0., 0.],\n",
       "        [0., 0., 0.],\n",
       "        [0., 0., 0.]],\n",
       "\n",
       "       [[0., 0., 0.],\n",
       "        [0., 0., 0.],\n",
       "        [0., 0., 0.]]])"
      ]
     },
     "execution_count": 76,
     "metadata": {},
     "output_type": "execute_result"
    }
   ],
   "source": [
    "np.zeros([2,3,3]) #now it is list but not tuples"
   ]
  },
  {
   "cell_type": "code",
   "execution_count": 77,
   "id": "c729ee66",
   "metadata": {},
   "outputs": [
    {
     "data": {
      "text/plain": [
       "array([1, 3, 5, 7, 9])"
      ]
     },
     "execution_count": 77,
     "metadata": {},
     "output_type": "execute_result"
    }
   ],
   "source": [
    "np.arange(1,10,2) #1D array from 1 up to but not including 10 in steps of 2"
   ]
  },
  {
   "cell_type": "code",
   "execution_count": 78,
   "id": "a98656d7",
   "metadata": {},
   "outputs": [
    {
     "data": {
      "text/plain": [
       "array([[[0., 0., 0.],\n",
       "        [0., 0., 0.]],\n",
       "\n",
       "       [[0., 0., 0.],\n",
       "        [0., 0., 0.]],\n",
       "\n",
       "       [[0., 0., 0.],\n",
       "        [0., 0., 0.]],\n",
       "\n",
       "       [[0., 0., 0.],\n",
       "        [0., 0., 0.]]])"
      ]
     },
     "execution_count": 78,
     "metadata": {},
     "output_type": "execute_result"
    }
   ],
   "source": [
    "np.zeros([4,2,3]) # 4 blocks/layers, 2 rows, 3 columns - 4 matrices, each of shape (2, 3), still 3-D array"
   ]
  },
  {
   "cell_type": "code",
   "execution_count": 79,
   "id": "4b78e2f3",
   "metadata": {},
   "outputs": [
    {
     "data": {
      "text/plain": [
       "array([[6, 6, 4, 5],\n",
       "       [6, 6, 1, 7],\n",
       "       [7, 4, 3, 5]], dtype=int32)"
      ]
     },
     "execution_count": 79,
     "metadata": {},
     "output_type": "execute_result"
    }
   ],
   "source": [
    "# 3x4 array of random integers that range between 1 up but not including 10\n",
    "np.random.randint(1,10,(3,4))"
   ]
  },
  {
   "cell_type": "code",
   "execution_count": 80,
   "id": "c89276a4",
   "metadata": {},
   "outputs": [
    {
     "data": {
      "text/plain": [
       "array([[[12,  7],\n",
       "        [18,  3],\n",
       "        [ 4,  4],\n",
       "        [13, 17],\n",
       "        [18,  6]],\n",
       "\n",
       "       [[14,  3],\n",
       "        [12, 11],\n",
       "        [ 1,  9],\n",
       "        [13, 14],\n",
       "        [19,  4]],\n",
       "\n",
       "       [[ 5,  4],\n",
       "        [ 2,  1],\n",
       "        [19, 19],\n",
       "        [17,  7],\n",
       "        [14, 10]],\n",
       "\n",
       "       [[14, 17],\n",
       "        [ 1, 15],\n",
       "        [16,  2],\n",
       "        [ 5,  1],\n",
       "        [ 5,  2]]], dtype=int32)"
      ]
     },
     "execution_count": 80,
     "metadata": {},
     "output_type": "execute_result"
    }
   ],
   "source": [
    "# creates reproducible random number, but fixed after generating - seed!\n",
    "np.random.seed(12) \n",
    "# this 12 has no attribute to the maximum value that can be randomly generated\n",
    "# this 12 can be changed to anything even string, it just acts like a variable\n",
    "np.random.randint(1,20, (4,5,2))"
   ]
  },
  {
   "cell_type": "code",
   "execution_count": null,
   "id": "248e87fa",
   "metadata": {},
   "outputs": [
    {
     "data": {
      "text/plain": [
       "array([[ 5,  4,  3,  2,  1,  0],\n",
       "       [10,  8,  6,  4,  2,  0]])"
      ]
     },
     "execution_count": 81,
     "metadata": {},
     "output_type": "execute_result"
    }
   ],
   "source": [
    "bbb = np.array([[5,4,3,2,1,0], [10,8,6,4,2,0]]) #total 12 items\n",
    "bbb"
   ]
  },
  {
   "cell_type": "code",
   "execution_count": null,
   "id": "b7dfbba6",
   "metadata": {},
   "outputs": [
    {
     "data": {
      "text/plain": [
       "array([[ 5, 10],\n",
       "       [ 4,  8],\n",
       "       [ 3,  6],\n",
       "       [ 2,  4],\n",
       "       [ 1,  2],\n",
       "       [ 0,  0]])"
      ]
     },
     "execution_count": 82,
     "metadata": {},
     "output_type": "execute_result"
    }
   ],
   "source": [
    "bbb.T # T stands for transpose"
   ]
  },
  {
   "cell_type": "code",
   "execution_count": 83,
   "id": "2c32713f",
   "metadata": {},
   "outputs": [
    {
     "data": {
      "text/plain": [
       "array([[ 5,  4,  3],\n",
       "       [ 2,  1,  0],\n",
       "       [10,  8,  6],\n",
       "       [ 4,  2,  0]])"
      ]
     },
     "execution_count": 83,
     "metadata": {},
     "output_type": "execute_result"
    }
   ],
   "source": [
    "bbb.reshape(4,3)"
   ]
  },
  {
   "cell_type": "code",
   "execution_count": 84,
   "id": "a1eeb2e2",
   "metadata": {},
   "outputs": [
    {
     "data": {
      "text/plain": [
       "array([[ 5],\n",
       "       [ 4],\n",
       "       [ 3],\n",
       "       [ 2],\n",
       "       [ 1],\n",
       "       [ 0],\n",
       "       [10],\n",
       "       [ 8],\n",
       "       [ 6],\n",
       "       [ 4],\n",
       "       [ 2],\n",
       "       [ 0]])"
      ]
     },
     "execution_count": 84,
     "metadata": {},
     "output_type": "execute_result"
    }
   ],
   "source": [
    "bbb.reshape(12,1)"
   ]
  },
  {
   "cell_type": "code",
   "execution_count": 85,
   "id": "98a26b8d",
   "metadata": {},
   "outputs": [
    {
     "data": {
      "text/plain": [
       "array([[ 5,  4,  3,  2,  1,  0, 10,  8,  6,  4,  2,  0]])"
      ]
     },
     "execution_count": 85,
     "metadata": {},
     "output_type": "execute_result"
    }
   ],
   "source": [
    "bbb.reshape(1,12)"
   ]
  },
  {
   "cell_type": "code",
   "execution_count": 87,
   "id": "74c2a1e2",
   "metadata": {},
   "outputs": [
    {
     "data": {
      "text/plain": [
       "array([[ 5,  4,  3,  2,  1,  0],\n",
       "       [10,  8,  6,  4,  2,  0]])"
      ]
     },
     "execution_count": 87,
     "metadata": {},
     "output_type": "execute_result"
    }
   ],
   "source": [
    "bbb"
   ]
  },
  {
   "cell_type": "code",
   "execution_count": null,
   "id": "a913c185",
   "metadata": {},
   "outputs": [
    {
     "data": {
      "text/plain": [
       "array([[ 1,  2,  3,  5,  4,  3,  2,  1,  0],\n",
       "       [ 4,  5,  6, 10,  8,  6,  4,  2,  0]])"
      ]
     },
     "execution_count": 89,
     "metadata": {},
     "output_type": "execute_result"
    }
   ],
   "source": [
    "np.hstack((abc,bbb)) #stack horizontally"
   ]
  },
  {
   "cell_type": "code",
   "execution_count": null,
   "id": "a6453a00",
   "metadata": {},
   "outputs": [
    {
     "ename": "ValueError",
     "evalue": "all the input array dimensions except for the concatenation axis must match exactly, but along dimension 1, the array at index 0 has size 3 and the array at index 1 has size 6",
     "output_type": "error",
     "traceback": [
      "\u001b[31m---------------------------------------------------------------------------\u001b[39m",
      "\u001b[31mValueError\u001b[39m                                Traceback (most recent call last)",
      "\u001b[36mCell\u001b[39m\u001b[36m \u001b[39m\u001b[32mIn[90]\u001b[39m\u001b[32m, line 1\u001b[39m\n\u001b[32m----> \u001b[39m\u001b[32m1\u001b[39m \u001b[43mnp\u001b[49m\u001b[43m.\u001b[49m\u001b[43mvstack\u001b[49m\u001b[43m(\u001b[49m\u001b[43m(\u001b[49m\u001b[43mabc\u001b[49m\u001b[43m,\u001b[49m\u001b[43mbbb\u001b[49m\u001b[43m)\u001b[49m\u001b[43m)\u001b[49m\n",
      "\u001b[36mFile \u001b[39m\u001b[32mc:\\Users\\Chan Yat Yan\\Desktop\\Python_DSI2025\\python\\python-env\\Lib\\site-packages\\numpy\\_core\\shape_base.py:292\u001b[39m, in \u001b[36mvstack\u001b[39m\u001b[34m(tup, dtype, casting)\u001b[39m\n\u001b[32m    290\u001b[39m \u001b[38;5;28;01mif\u001b[39;00m \u001b[38;5;129;01mnot\u001b[39;00m \u001b[38;5;28misinstance\u001b[39m(arrs, \u001b[38;5;28mtuple\u001b[39m):\n\u001b[32m    291\u001b[39m     arrs = (arrs,)\n\u001b[32m--> \u001b[39m\u001b[32m292\u001b[39m \u001b[38;5;28;01mreturn\u001b[39;00m \u001b[43m_nx\u001b[49m\u001b[43m.\u001b[49m\u001b[43mconcatenate\u001b[49m\u001b[43m(\u001b[49m\u001b[43marrs\u001b[49m\u001b[43m,\u001b[49m\u001b[43m \u001b[49m\u001b[32;43m0\u001b[39;49m\u001b[43m,\u001b[49m\u001b[43m \u001b[49m\u001b[43mdtype\u001b[49m\u001b[43m=\u001b[49m\u001b[43mdtype\u001b[49m\u001b[43m,\u001b[49m\u001b[43m \u001b[49m\u001b[43mcasting\u001b[49m\u001b[43m=\u001b[49m\u001b[43mcasting\u001b[49m\u001b[43m)\u001b[49m\n",
      "\u001b[31mValueError\u001b[39m: all the input array dimensions except for the concatenation axis must match exactly, but along dimension 1, the array at index 0 has size 3 and the array at index 1 has size 6"
     ]
    }
   ],
   "source": [
    "np.vstack((abc,bbb)) #stack vertically - but what is the function??"
   ]
  },
  {
   "cell_type": "code",
   "execution_count": null,
   "id": "e8f11351",
   "metadata": {},
   "outputs": [],
   "source": [
    "r_bbb = np.reshape(bbb, (4,3)) "
   ]
  },
  {
   "cell_type": "code",
   "execution_count": 95,
   "id": "4fd0ff8f",
   "metadata": {},
   "outputs": [
    {
     "data": {
      "text/plain": [
       "array([[ 1,  2,  3],\n",
       "       [ 4,  5,  6],\n",
       "       [ 5,  4,  3],\n",
       "       [ 2,  1,  0],\n",
       "       [10,  8,  6],\n",
       "       [ 4,  2,  0]])"
      ]
     },
     "execution_count": 95,
     "metadata": {},
     "output_type": "execute_result"
    }
   ],
   "source": [
    "np.vstack((abc, r_bbb))"
   ]
  },
  {
   "cell_type": "code",
   "execution_count": null,
   "id": "02da5d84",
   "metadata": {},
   "outputs": [],
   "source": []
  }
 ],
 "metadata": {
  "kernelspec": {
   "display_name": "python-env",
   "language": "python",
   "name": "python3"
  },
  "language_info": {
   "codemirror_mode": {
    "name": "ipython",
    "version": 3
   },
   "file_extension": ".py",
   "mimetype": "text/x-python",
   "name": "python",
   "nbconvert_exporter": "python",
   "pygments_lexer": "ipython3",
   "version": "3.11.4"
  }
 },
 "nbformat": 4,
 "nbformat_minor": 5
}
