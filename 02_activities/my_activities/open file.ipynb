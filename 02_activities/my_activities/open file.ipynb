{
 "cells": [
  {
   "cell_type": "code",
   "execution_count": null,
   "id": "12450569",
   "metadata": {},
   "outputs": [
    {
     "name": "stdout",
     "output_type": "stream",
     "text": [
      "\"longitude\",\"latitude\",\"housing_median_age\",\"total_rooms\",\"total_bedrooms\",\"population\",\"households\",\"median_income\",\"median_house_value\"\n",
      "\n",
      "-122.050000,37.370000,27.000000,3885.000000,661.000000,1537.000000,606.000000,6.608500,344700.000000\n",
      "\n",
      "-118.300000,34.260000,43.000000,1510.000000,310.000000,809.000000,277.000000,3.599000,176500.000000\n",
      "\n",
      "-117.810000,33.780000,27.000000,3589.000000,507.000000,1484.000000,495.000000,5.793400,270500.000000\n",
      "\n",
      "-118.360000,33.820000,28.000000,67.000000,15.000000,49.000000,11.000000,6.135900,330000.000000\n",
      "\n",
      "-119.670000,36.330000,19.000000,1241.000000,244.000000,850.000000,237.000000,2.937500,81700.000000\n",
      "\n",
      "-119.560000,36.510000,37.000000,1018.000000,213.000000,663.000000,204.000000,1.663500,67000.000000\n",
      "\n",
      "-121.430000,38.630000,43.000000,1009.000000,225.000000,604.000000,218.000000,1.664100,67000.000000\n",
      "\n",
      "-120.650000,35.480000,19.000000,2310.000000,471.000000,1341.000000,441.000000,3.225000,166900.000000\n",
      "\n",
      "-122.840000,38.400000,15.000000,3080.000000,617.000000,1446.000000,599.000000,3.669600,194400.000000\n",
      "\n"
     ]
    }
   ],
   "source": [
    "with open(r'C:\\Users\\Chan Yat Yan\\Desktop\\Python_DSI2025\\python\\05_src\\data\\slides_data\\california_housing_test.csv', 'r') as f: #f can be any characters I want\n",
    "    for i in range(10): #print how many times\n",
    "        print(f.readline())"
   ]
  },
  {
   "cell_type": "code",
   "execution_count": 11,
   "id": "a2ab6948",
   "metadata": {},
   "outputs": [],
   "source": [
    "# write() write a string to file\n",
    "# writelines() write each item in an iterable to afile, with no text in between\n",
    "\n",
    "provinces_in_canada = [\"BC\", \"ON\", \"AB\", \"SK\", \"MB\", \"QC\", \"NL\"]\n",
    "with open('provinces.txt','w') as a_file: #we are now creating a txt file in the same file location as the current file\n",
    "    a_file.writelines(provinces_in_canada)\n"
   ]
  },
  {
   "cell_type": "code",
   "execution_count": 12,
   "id": "a1f61769",
   "metadata": {},
   "outputs": [
    {
     "name": "stdout",
     "output_type": "stream",
     "text": [
      "BCONABSKMBQCNL\n"
     ]
    }
   ],
   "source": [
    "with open(\"provinces.txt\",\"r\") as f:\n",
    "    print(f.read())"
   ]
  },
  {
   "cell_type": "code",
   "execution_count": null,
   "id": "dca1c756",
   "metadata": {},
   "outputs": [],
   "source": [
    "# to use relative file location"
   ]
  },
  {
   "cell_type": "code",
   "execution_count": null,
   "id": "b4bc8435",
   "metadata": {},
   "outputs": [],
   "source": [
    "#object-oriented programming\n",
    "\n"
   ]
  }
 ],
 "metadata": {
  "kernelspec": {
   "display_name": "python-env",
   "language": "python",
   "name": "python3"
  },
  "language_info": {
   "codemirror_mode": {
    "name": "ipython",
    "version": 3
   },
   "file_extension": ".py",
   "mimetype": "text/x-python",
   "name": "python",
   "nbconvert_exporter": "python",
   "pygments_lexer": "ipython3",
   "version": "3.11.4"
  }
 },
 "nbformat": 4,
 "nbformat_minor": 5
}
