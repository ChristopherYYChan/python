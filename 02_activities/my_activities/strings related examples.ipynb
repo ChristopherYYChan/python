{
 "cells": [
  {
   "cell_type": "code",
   "execution_count": 6,
   "id": "69972e75",
   "metadata": {},
   "outputs": [
    {
     "data": {
      "text/plain": [
       "'CHAN'"
      ]
     },
     "execution_count": 6,
     "metadata": {},
     "output_type": "execute_result"
    }
   ],
   "source": [
    "lastname = \"CHAN\"\n",
    "firstname = \"Yat_Yan\"\n",
    "lastname"
   ]
  },
  {
   "cell_type": "code",
   "execution_count": 7,
   "id": "47b2ca47",
   "metadata": {},
   "outputs": [
    {
     "data": {
      "text/plain": [
       "'HAN'"
      ]
     },
     "execution_count": 7,
     "metadata": {},
     "output_type": "execute_result"
    }
   ],
   "source": [
    "lastname[1:]"
   ]
  },
  {
   "cell_type": "markdown",
   "id": "3d5f77bc",
   "metadata": {},
   "source": [
    "\"Wanted from\" position 1 onwards (inclusive)"
   ]
  },
  {
   "cell_type": "code",
   "execution_count": 8,
   "id": "5adea9f3",
   "metadata": {},
   "outputs": [
    {
     "data": {
      "text/plain": [
       "'C'"
      ]
     },
     "execution_count": 8,
     "metadata": {},
     "output_type": "execute_result"
    }
   ],
   "source": [
    "lastname[:1]"
   ]
  },
  {
   "cell_type": "code",
   "execution_count": 9,
   "id": "60ae46be",
   "metadata": {},
   "outputs": [
    {
     "data": {
      "text/plain": [
       "'Yat'"
      ]
     },
     "execution_count": 9,
     "metadata": {},
     "output_type": "execute_result"
    }
   ],
   "source": [
    "firstname[:3]"
   ]
  },
  {
   "cell_type": "markdown",
   "id": "c428db5a",
   "metadata": {},
   "source": [
    "\"Wanted upto\" position 3 (excluded)"
   ]
  },
  {
   "cell_type": "code",
   "execution_count": 10,
   "id": "42581dfe",
   "metadata": {},
   "outputs": [
    {
     "data": {
      "text/plain": [
       "'Yat_'"
      ]
     },
     "execution_count": 10,
     "metadata": {},
     "output_type": "execute_result"
    }
   ],
   "source": [
    "firstname[:-3]"
   ]
  },
  {
   "cell_type": "code",
   "execution_count": 11,
   "id": "ba664cd1",
   "metadata": {},
   "outputs": [
    {
     "data": {
      "text/plain": [
       "'_Yan'"
      ]
     },
     "execution_count": 11,
     "metadata": {},
     "output_type": "execute_result"
    }
   ],
   "source": [
    "firstname[3:]"
   ]
  },
  {
   "cell_type": "code",
   "execution_count": 12,
   "id": "d91af355",
   "metadata": {},
   "outputs": [
    {
     "data": {
      "text/plain": [
       "'Yan'"
      ]
     },
     "execution_count": 12,
     "metadata": {},
     "output_type": "execute_result"
    }
   ],
   "source": [
    "firstname[-3:]"
   ]
  },
  {
   "cell_type": "code",
   "execution_count": 13,
   "id": "ec6c6552",
   "metadata": {},
   "outputs": [
    {
     "data": {
      "text/plain": [
       "'_Yan'"
      ]
     },
     "execution_count": 13,
     "metadata": {},
     "output_type": "execute_result"
    }
   ],
   "source": [
    "firstname[3:]"
   ]
  },
  {
   "cell_type": "code",
   "execution_count": 14,
   "id": "cefbdc23",
   "metadata": {},
   "outputs": [
    {
     "ename": "TypeError",
     "evalue": "string indices must be integers, not 'tuple'",
     "output_type": "error",
     "traceback": [
      "\u001b[31m---------------------------------------------------------------------------\u001b[39m",
      "\u001b[31mTypeError\u001b[39m                                 Traceback (most recent call last)",
      "\u001b[36mCell\u001b[39m\u001b[36m \u001b[39m\u001b[32mIn[14]\u001b[39m\u001b[32m, line 1\u001b[39m\n\u001b[32m----> \u001b[39m\u001b[32m1\u001b[39m \u001b[43mfirstname\u001b[49m\u001b[43m[\u001b[49m\u001b[32;43m0\u001b[39;49m\u001b[43m,\u001b[49m\u001b[32;43m4\u001b[39;49m\u001b[43m]\u001b[49m\n",
      "\u001b[31mTypeError\u001b[39m: string indices must be integers, not 'tuple'"
     ]
    }
   ],
   "source": [
    "firstname[0,4]"
   ]
  },
  {
   "cell_type": "code",
   "execution_count": null,
   "id": "981ed429",
   "metadata": {},
   "outputs": [
    {
     "data": {
      "text/plain": [
       "'YY'"
      ]
     },
     "execution_count": 20,
     "metadata": {},
     "output_type": "execute_result"
    }
   ],
   "source": [
    "firstname[0]+firstname[4]"
   ]
  },
  {
   "cell_type": "code",
   "execution_count": null,
   "id": "3bbe472b",
   "metadata": {},
   "outputs": [
    {
     "data": {
      "text/plain": [
       "'CHAN'"
      ]
     },
     "execution_count": 21,
     "metadata": {},
     "output_type": "execute_result"
    }
   ],
   "source": [
    "lastname[0:7]"
   ]
  },
  {
   "cell_type": "code",
   "execution_count": null,
   "id": "d033f5c0",
   "metadata": {},
   "outputs": [
    {
     "data": {
      "text/plain": [
       "'Yat_Yan'"
      ]
     },
     "execution_count": 22,
     "metadata": {},
     "output_type": "execute_result"
    }
   ],
   "source": [
    "firstname[0:7]"
   ]
  },
  {
   "cell_type": "code",
   "execution_count": null,
   "id": "f41e6ca2",
   "metadata": {},
   "outputs": [
    {
     "data": {
      "text/plain": [
       "'YY'"
      ]
     },
     "execution_count": 23,
     "metadata": {},
     "output_type": "execute_result"
    }
   ],
   "source": [
    "firstname[0:7:4]"
   ]
  },
  {
   "cell_type": "code",
   "execution_count": null,
   "id": "b1279c9e",
   "metadata": {},
   "outputs": [
    {
     "data": {
      "text/plain": [
       "'Y_n'"
      ]
     },
     "execution_count": 25,
     "metadata": {},
     "output_type": "execute_result"
    }
   ],
   "source": [
    "firstname[0:7:3] #str[start:end+1:step]"
   ]
  },
  {
   "cell_type": "code",
   "execution_count": null,
   "id": "52e969fb",
   "metadata": {},
   "outputs": [
    {
     "data": {
      "text/plain": [
       "'960'"
      ]
     },
     "execution_count": 45,
     "metadata": {},
     "output_type": "execute_result"
    }
   ],
   "source": [
    "phone = \"905-960-8684\"\n",
    "\n",
    "phone[4:7]"
   ]
  },
  {
   "cell_type": "code",
   "execution_count": null,
   "id": "95a9018a",
   "metadata": {},
   "outputs": [
    {
     "data": {
      "text/plain": [
       "'960-8684'"
      ]
     },
     "execution_count": 48,
     "metadata": {},
     "output_type": "execute_result"
    }
   ],
   "source": [
    "phone[-8:]"
   ]
  },
  {
   "cell_type": "code",
   "execution_count": null,
   "id": "771a66bf",
   "metadata": {},
   "outputs": [
    {
     "data": {
      "text/plain": [
       "'4868-069-509'"
      ]
     },
     "execution_count": 49,
     "metadata": {},
     "output_type": "execute_result"
    }
   ],
   "source": [
    "phone[::-1]"
   ]
  },
  {
   "cell_type": "markdown",
   "id": "5b10efbe",
   "metadata": {},
   "source": [
    "It reverses everything in phone\n",
    "first empty+: refers to start from the end, we can give any numbers referring to desired position\n",
    "second empty+: refers to from the start, we can give any numbers referring to the desired position too\n",
    "-1 means in step of 1, but reverse"
   ]
  },
  {
   "cell_type": "code",
   "execution_count": null,
   "id": "72c3455f",
   "metadata": {},
   "outputs": [
    {
     "data": {
      "text/plain": [
       "'46-6-0'"
      ]
     },
     "execution_count": 50,
     "metadata": {},
     "output_type": "execute_result"
    }
   ],
   "source": [
    "phone[::-2]"
   ]
  },
  {
   "cell_type": "code",
   "execution_count": null,
   "id": "b7b5fd5b",
   "metadata": {},
   "outputs": [
    {
     "data": {
      "text/plain": [
       "12"
      ]
     },
     "execution_count": 51,
     "metadata": {},
     "output_type": "execute_result"
    }
   ],
   "source": [
    "len(phone)"
   ]
  },
  {
   "cell_type": "code",
   "execution_count": null,
   "id": "b1b4a5a4",
   "metadata": {},
   "outputs": [
    {
     "name": "stdout",
     "output_type": "stream",
     "text": [
      "['-', '-', '0', '0', '4', '5', '6', '6', '8', '8', '9', '9']\n"
     ]
    }
   ],
   "source": [
    "sorted_phone_number = sorted(phone)\n",
    "print(sorted_phone_number)"
   ]
  },
  {
   "cell_type": "code",
   "execution_count": null,
   "id": "62582c6e",
   "metadata": {},
   "outputs": [
    {
     "data": {
      "text/plain": [
       "'I LOVE SCIENCE'"
      ]
     },
     "execution_count": 53,
     "metadata": {},
     "output_type": "execute_result"
    }
   ],
   "source": [
    "a_sentence = \"I love science\"\n",
    "a_sentence.upper()"
   ]
  },
  {
   "cell_type": "code",
   "execution_count": null,
   "id": "ffa29ad3",
   "metadata": {},
   "outputs": [
    {
     "data": {
      "text/plain": [
       "'i love science'"
      ]
     },
     "execution_count": 54,
     "metadata": {},
     "output_type": "execute_result"
    }
   ],
   "source": [
    "a_sentence.lower()"
   ]
  },
  {
   "cell_type": "markdown",
   "id": "4c9422ff",
   "metadata": {},
   "source": [
    ".upper() and .lower(), they take nothing in the (), but we'll still need the () as it is a string method"
   ]
  },
  {
   "cell_type": "code",
   "execution_count": null,
   "id": "71d6c588",
   "metadata": {},
   "outputs": [
    {
     "data": {
      "text/plain": [
       "5"
      ]
     },
     "execution_count": 1,
     "metadata": {},
     "output_type": "execute_result"
    }
   ],
   "source": [
    "\"This string is ununununinuhin\".count(\"u\")"
   ]
  },
  {
   "cell_type": "code",
   "execution_count": null,
   "id": "e1299d2f",
   "metadata": {},
   "outputs": [
    {
     "data": {
      "text/plain": [
       "True"
      ]
     },
     "execution_count": 2,
     "metadata": {},
     "output_type": "execute_result"
    }
   ],
   "source": [
    "\"Hello\".endswith('o')"
   ]
  },
  {
   "cell_type": "code",
   "execution_count": null,
   "id": "c6c34f72",
   "metadata": {},
   "outputs": [
    {
     "data": {
      "text/plain": [
       "False"
      ]
     },
     "execution_count": 3,
     "metadata": {},
     "output_type": "execute_result"
    }
   ],
   "source": [
    "\"hello\".endswith(\".txt\")"
   ]
  },
  {
   "cell_type": "code",
   "execution_count": null,
   "id": "5838f69d",
   "metadata": {},
   "outputs": [
    {
     "data": {
      "text/plain": [
       "\"long**file**names**with**a**lot**of**spaces**then**ha**let's**try\""
      ]
     },
     "execution_count": 4,
     "metadata": {},
     "output_type": "execute_result"
    }
   ],
   "source": [
    "\"long file names with a lot of spaces then ha let's try\".replace(\" \", \"**\") # replace <<space>> with ** as indicated by me"
   ]
  },
  {
   "cell_type": "code",
   "execution_count": null,
   "id": "10bb84ad",
   "metadata": {},
   "outputs": [
    {
     "ename": "NameError",
     "evalue": "name 'firstname' is not defined",
     "output_type": "error",
     "traceback": [
      "\u001b[31m---------------------------------------------------------------------------\u001b[39m",
      "\u001b[31mNameError\u001b[39m                                 Traceback (most recent call last)",
      "\u001b[36mCell\u001b[39m\u001b[36m \u001b[39m\u001b[32mIn[5]\u001b[39m\u001b[32m, line 1\u001b[39m\n\u001b[32m----> \u001b[39m\u001b[32m1\u001b[39m \u001b[43mfirstname\u001b[49m\n",
      "\u001b[31mNameError\u001b[39m: name 'firstname' is not defined"
     ]
    }
   ],
   "source": [
    "firstname"
   ]
  },
  {
   "cell_type": "code",
   "execution_count": 15,
   "id": "64603fdc",
   "metadata": {},
   "outputs": [
    {
     "data": {
      "text/plain": [
       "'Yat_Yan'"
      ]
     },
     "execution_count": 15,
     "metadata": {},
     "output_type": "execute_result"
    }
   ],
   "source": [
    "firstname"
   ]
  },
  {
   "cell_type": "code",
   "execution_count": 16,
   "id": "e1312ed0",
   "metadata": {},
   "outputs": [
    {
     "data": {
      "text/plain": [
       "'CHAN'"
      ]
     },
     "execution_count": 16,
     "metadata": {},
     "output_type": "execute_result"
    }
   ],
   "source": [
    "lastname"
   ]
  },
  {
   "cell_type": "code",
   "execution_count": 21,
   "id": "8c98010b",
   "metadata": {},
   "outputs": [
    {
     "data": {
      "text/plain": [
       "'My name is CHAN Yat Yan'"
      ]
     },
     "execution_count": 21,
     "metadata": {},
     "output_type": "execute_result"
    }
   ],
   "source": [
    "\"My name is {} {}\".format(lastname,firstname[:3]+ \" \" + firstname[-3:])"
   ]
  },
  {
   "cell_type": "markdown",
   "id": "0a197201",
   "metadata": {},
   "source": [
    "In this scenario, we can play with a lot of stuffs within the parameter with .format\n",
    "but the lecturer prefers f-string better (so am I)"
   ]
  },
  {
   "cell_type": "code",
   "execution_count": 23,
   "id": "540ba2dd",
   "metadata": {},
   "outputs": [
    {
     "data": {
      "text/plain": [
       "'My favourite meal is pizza and coca-cola'"
      ]
     },
     "execution_count": 23,
     "metadata": {},
     "output_type": "execute_result"
    }
   ],
   "source": [
    "# First we should define a variable outsdie of the f-string\n",
    "\n",
    "food = \"pizza\"\n",
    "drink = \"coca-cola\"\n",
    "\n",
    "f\"My favourite meal is {food} and {drink}\""
   ]
  },
  {
   "cell_type": "code",
   "execution_count": null,
   "id": "f1fdde8f",
   "metadata": {},
   "outputs": [
    {
     "data": {
      "text/plain": [
       "'My favourite meal is sushi and water'"
      ]
     },
     "execution_count": 27,
     "metadata": {},
     "output_type": "execute_result"
    }
   ],
   "source": [
    "f\"My favourite meal is {'sushi'} and {'water'}\" \n",
    "#in this case, with ' ', I can change the content in {} be anything I want without changing the value stored in the variable"
   ]
  },
  {
   "cell_type": "code",
   "execution_count": 30,
   "id": "1eeb0ddc",
   "metadata": {},
   "outputs": [],
   "source": [
    "age = input(\"How old are you?\") \n",
    "#this input is a function which allows user to input new values into the system\n",
    "#the value input is in form of string"
   ]
  },
  {
   "cell_type": "code",
   "execution_count": 32,
   "id": "0f5aeb48",
   "metadata": {},
   "outputs": [
    {
     "data": {
      "text/plain": [
       "35"
      ]
     },
     "execution_count": 32,
     "metadata": {},
     "output_type": "execute_result"
    }
   ],
   "source": [
    "age\n",
    "int(age) #now I convert the value in age from str to number for further operations"
   ]
  },
  {
   "cell_type": "code",
   "execution_count": null,
   "id": "25d5654b",
   "metadata": {},
   "outputs": [
    {
     "name": "stdout",
     "output_type": "stream",
     "text": [
      "I'll be 36 next year\n"
     ]
    }
   ],
   "source": [
    "print(\"I'll be \" + str(int(age)+1) + \" next year\") \n",
    "#Now we can play with the integer values and convert it to string for printing"
   ]
  },
  {
   "cell_type": "code",
   "execution_count": 37,
   "id": "9b0e7b48",
   "metadata": {},
   "outputs": [
    {
     "data": {
      "text/plain": [
       "True"
      ]
     },
     "execution_count": 37,
     "metadata": {},
     "output_type": "execute_result"
    }
   ],
   "source": [
    "def anagram_checker(word_a, word_b, is_case_sensitive):\n",
    "  # Modify your existing code here\n",
    "  if (sorted(word_a) == sorted(word_b))== is_case_sensitive:\n",
    "    return True\n",
    "  else: \n",
    "    return False\n",
    "# Run your code to check using the words below:\n",
    "anagram_checker(\"Silent\", \"listen\", False) # True"
   ]
  }
 ],
 "metadata": {
  "kernelspec": {
   "display_name": "python-env",
   "language": "python",
   "name": "python3"
  },
  "language_info": {
   "codemirror_mode": {
    "name": "ipython",
    "version": 3
   },
   "file_extension": ".py",
   "mimetype": "text/x-python",
   "name": "python",
   "nbconvert_exporter": "python",
   "pygments_lexer": "ipython3",
   "version": "3.11.4"
  }
 },
 "nbformat": 4,
 "nbformat_minor": 5
}
