{
 "cells": [
  {
   "cell_type": "code",
   "execution_count": 35,
   "id": "69972e75",
   "metadata": {},
   "outputs": [
    {
     "data": {
      "text/plain": [
       "'CHAN'"
      ]
     },
     "execution_count": 35,
     "metadata": {},
     "output_type": "execute_result"
    }
   ],
   "source": [
    "lastname = \"CHAN\"\n",
    "firstname = \"Yat_Yan\"\n",
    "lastname"
   ]
  },
  {
   "cell_type": "code",
   "execution_count": 36,
   "id": "47b2ca47",
   "metadata": {},
   "outputs": [
    {
     "data": {
      "text/plain": [
       "'HAN'"
      ]
     },
     "execution_count": 36,
     "metadata": {},
     "output_type": "execute_result"
    }
   ],
   "source": [
    "lastname[1:]"
   ]
  },
  {
   "cell_type": "markdown",
   "id": "3d5f77bc",
   "metadata": {},
   "source": [
    "\"Wanted from\" position 1 onwards (inclusive)"
   ]
  },
  {
   "cell_type": "code",
   "execution_count": 37,
   "id": "5adea9f3",
   "metadata": {},
   "outputs": [
    {
     "data": {
      "text/plain": [
       "'C'"
      ]
     },
     "execution_count": 37,
     "metadata": {},
     "output_type": "execute_result"
    }
   ],
   "source": [
    "lastname[:1]"
   ]
  },
  {
   "cell_type": "code",
   "execution_count": 38,
   "id": "60ae46be",
   "metadata": {},
   "outputs": [
    {
     "data": {
      "text/plain": [
       "'Yat'"
      ]
     },
     "execution_count": 38,
     "metadata": {},
     "output_type": "execute_result"
    }
   ],
   "source": [
    "firstname[:3]"
   ]
  },
  {
   "cell_type": "markdown",
   "id": "c428db5a",
   "metadata": {},
   "source": [
    "\"Wanted upto\" position 3 (excluded)"
   ]
  },
  {
   "cell_type": "code",
   "execution_count": 39,
   "id": "42581dfe",
   "metadata": {},
   "outputs": [
    {
     "data": {
      "text/plain": [
       "'Yat_'"
      ]
     },
     "execution_count": 39,
     "metadata": {},
     "output_type": "execute_result"
    }
   ],
   "source": [
    "firstname[:-3]"
   ]
  },
  {
   "cell_type": "code",
   "execution_count": 40,
   "id": "ba664cd1",
   "metadata": {},
   "outputs": [
    {
     "data": {
      "text/plain": [
       "'_Yan'"
      ]
     },
     "execution_count": 40,
     "metadata": {},
     "output_type": "execute_result"
    }
   ],
   "source": [
    "firstname[3:]"
   ]
  },
  {
   "cell_type": "code",
   "execution_count": 41,
   "id": "d91af355",
   "metadata": {},
   "outputs": [
    {
     "data": {
      "text/plain": [
       "'Yan'"
      ]
     },
     "execution_count": 41,
     "metadata": {},
     "output_type": "execute_result"
    }
   ],
   "source": [
    "firstname[-3:]"
   ]
  },
  {
   "cell_type": "code",
   "execution_count": 42,
   "id": "ec6c6552",
   "metadata": {},
   "outputs": [
    {
     "data": {
      "text/plain": [
       "'_Yan'"
      ]
     },
     "execution_count": 42,
     "metadata": {},
     "output_type": "execute_result"
    }
   ],
   "source": [
    "firstname[3:]"
   ]
  },
  {
   "cell_type": "code",
   "execution_count": 43,
   "id": "cefbdc23",
   "metadata": {},
   "outputs": [
    {
     "ename": "TypeError",
     "evalue": "string indices must be integers, not 'tuple'",
     "output_type": "error",
     "traceback": [
      "\u001b[31m---------------------------------------------------------------------------\u001b[39m",
      "\u001b[31mTypeError\u001b[39m                                 Traceback (most recent call last)",
      "\u001b[36mCell\u001b[39m\u001b[36m \u001b[39m\u001b[32mIn[43]\u001b[39m\u001b[32m, line 1\u001b[39m\n\u001b[32m----> \u001b[39m\u001b[32m1\u001b[39m \u001b[43mfirstname\u001b[49m\u001b[43m[\u001b[49m\u001b[32;43m0\u001b[39;49m\u001b[43m,\u001b[49m\u001b[32;43m4\u001b[39;49m\u001b[43m]\u001b[49m\n",
      "\u001b[31mTypeError\u001b[39m: string indices must be integers, not 'tuple'"
     ]
    }
   ],
   "source": [
    "firstname[0,4]"
   ]
  },
  {
   "cell_type": "code",
   "execution_count": null,
   "id": "981ed429",
   "metadata": {},
   "outputs": [
    {
     "data": {
      "text/plain": [
       "'YY'"
      ]
     },
     "execution_count": 20,
     "metadata": {},
     "output_type": "execute_result"
    }
   ],
   "source": [
    "firstname[0]+firstname[4]"
   ]
  },
  {
   "cell_type": "code",
   "execution_count": null,
   "id": "3bbe472b",
   "metadata": {},
   "outputs": [
    {
     "data": {
      "text/plain": [
       "'CHAN'"
      ]
     },
     "execution_count": 21,
     "metadata": {},
     "output_type": "execute_result"
    }
   ],
   "source": [
    "lastname[0:7]"
   ]
  },
  {
   "cell_type": "code",
   "execution_count": null,
   "id": "d033f5c0",
   "metadata": {},
   "outputs": [
    {
     "data": {
      "text/plain": [
       "'Yat_Yan'"
      ]
     },
     "execution_count": 22,
     "metadata": {},
     "output_type": "execute_result"
    }
   ],
   "source": [
    "firstname[0:7]"
   ]
  },
  {
   "cell_type": "code",
   "execution_count": null,
   "id": "f41e6ca2",
   "metadata": {},
   "outputs": [
    {
     "data": {
      "text/plain": [
       "'YY'"
      ]
     },
     "execution_count": 23,
     "metadata": {},
     "output_type": "execute_result"
    }
   ],
   "source": [
    "firstname[0:7:4]"
   ]
  },
  {
   "cell_type": "code",
   "execution_count": null,
   "id": "b1279c9e",
   "metadata": {},
   "outputs": [
    {
     "data": {
      "text/plain": [
       "'Y_n'"
      ]
     },
     "execution_count": 25,
     "metadata": {},
     "output_type": "execute_result"
    }
   ],
   "source": [
    "firstname[0:7:3] #str[start:end+1:step]"
   ]
  },
  {
   "cell_type": "code",
   "execution_count": 45,
   "id": "52e969fb",
   "metadata": {},
   "outputs": [
    {
     "data": {
      "text/plain": [
       "'960'"
      ]
     },
     "execution_count": 45,
     "metadata": {},
     "output_type": "execute_result"
    }
   ],
   "source": [
    "phone = \"905-960-8684\"\n",
    "\n",
    "phone[4:7]"
   ]
  },
  {
   "cell_type": "code",
   "execution_count": 48,
   "id": "95a9018a",
   "metadata": {},
   "outputs": [
    {
     "data": {
      "text/plain": [
       "'960-8684'"
      ]
     },
     "execution_count": 48,
     "metadata": {},
     "output_type": "execute_result"
    }
   ],
   "source": [
    "phone[-8:]"
   ]
  },
  {
   "cell_type": "code",
   "execution_count": 49,
   "id": "771a66bf",
   "metadata": {},
   "outputs": [
    {
     "data": {
      "text/plain": [
       "'4868-069-509'"
      ]
     },
     "execution_count": 49,
     "metadata": {},
     "output_type": "execute_result"
    }
   ],
   "source": [
    "phone[::-1]"
   ]
  },
  {
   "cell_type": "markdown",
   "id": "5b10efbe",
   "metadata": {},
   "source": [
    "It reverses everything in phone\n",
    "first empty+: refers to start from the end, we can give any numbers referring to desired position\n",
    "second empty+: refers to from the start, we can give any numbers referring to the desired position too\n",
    "-1 means in step of 1, but reverse"
   ]
  },
  {
   "cell_type": "code",
   "execution_count": 50,
   "id": "72c3455f",
   "metadata": {},
   "outputs": [
    {
     "data": {
      "text/plain": [
       "'46-6-0'"
      ]
     },
     "execution_count": 50,
     "metadata": {},
     "output_type": "execute_result"
    }
   ],
   "source": [
    "phone[::-2]"
   ]
  },
  {
   "cell_type": "code",
   "execution_count": 51,
   "id": "b7b5fd5b",
   "metadata": {},
   "outputs": [
    {
     "data": {
      "text/plain": [
       "12"
      ]
     },
     "execution_count": 51,
     "metadata": {},
     "output_type": "execute_result"
    }
   ],
   "source": [
    "len(phone)"
   ]
  },
  {
   "cell_type": "code",
   "execution_count": 52,
   "id": "b1b4a5a4",
   "metadata": {},
   "outputs": [
    {
     "name": "stdout",
     "output_type": "stream",
     "text": [
      "['-', '-', '0', '0', '4', '5', '6', '6', '8', '8', '9', '9']\n"
     ]
    }
   ],
   "source": [
    "sorted_phone_number = sorted(phone)\n",
    "print(sorted_phone_number)"
   ]
  },
  {
   "cell_type": "code",
   "execution_count": 53,
   "id": "62582c6e",
   "metadata": {},
   "outputs": [
    {
     "data": {
      "text/plain": [
       "'I LOVE SCIENCE'"
      ]
     },
     "execution_count": 53,
     "metadata": {},
     "output_type": "execute_result"
    }
   ],
   "source": [
    "a_sentence = \"I love science\"\n",
    "a_sentence.upper()"
   ]
  },
  {
   "cell_type": "code",
   "execution_count": 54,
   "id": "ffa29ad3",
   "metadata": {},
   "outputs": [
    {
     "data": {
      "text/plain": [
       "'i love science'"
      ]
     },
     "execution_count": 54,
     "metadata": {},
     "output_type": "execute_result"
    }
   ],
   "source": [
    "a_sentence.lower()"
   ]
  },
  {
   "cell_type": "markdown",
   "id": "4c9422ff",
   "metadata": {},
   "source": [
    ".upper() and .lower(), they take nothing in the (), but we'll still need the () as it is a string method"
   ]
  },
  {
   "cell_type": "code",
   "execution_count": null,
   "id": "71d6c588",
   "metadata": {},
   "outputs": [],
   "source": []
  }
 ],
 "metadata": {
  "kernelspec": {
   "display_name": "python-env",
   "language": "python",
   "name": "python3"
  },
  "language_info": {
   "codemirror_mode": {
    "name": "ipython",
    "version": 3
   },
   "file_extension": ".py",
   "mimetype": "text/x-python",
   "name": "python",
   "nbconvert_exporter": "python",
   "pygments_lexer": "ipython3",
   "version": "3.11.4"
  }
 },
 "nbformat": 4,
 "nbformat_minor": 5
}
